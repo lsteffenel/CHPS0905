{
  "cells": [
    {
      "cell_type": "markdown",
      "metadata": {
        "id": "hDSim4ScMSvn"
      },
      "source": [
        "# Introduction en Deep Learning \n",
        "\n",
        "### - Ce notebook consiste à classifier des images d’habits. Le dataset est connu sous le nom de Fashion Mnist (un peu du genre MNIST).\n",
        "\n"
      ]
    },
    {
      "cell_type": "markdown",
      "metadata": {
        "id": "kqG1WLKSMSvp"
      },
      "source": [
        "Données\n",
        "\n",
        "Les données à classer sont celles de Fashion-MNIST.\n",
        "\n",
        "    Fashion-MNIST is a dataset of Zalando‘s article images—consisting of a training set of 60,000 examples and a test set of 10,000 examples. Each example is a 28×28 grayscale image, associated with a label from 10 classes. We intend Fashion-MNIST to serve as a direct drop-in replacement for the original MNIST dataset for benchmarking machine learning algorithms. It shares the same image size and structure of training and testing splits.\n",
        "    https://github.com/zalandoresearch/fashion-mnist"
      ]
    },
    {
      "cell_type": "markdown",
      "metadata": {
        "id": "lfDHQHCoMSvp"
      },
      "source": [
        "### - On utilise la sur-couche Keras à TensorFlow. "
      ]
    },
    {
      "cell_type": "code",
      "execution_count": null,
      "metadata": {
        "id": "svbdh_UhMSvp"
      },
      "outputs": [],
      "source": [
        "# Importer TensorFlow \n",
        "import tensorflow as tf\n",
        "from tensorflow import keras \n",
        "\n",
        "# Helper libraries\n",
        "import numpy as np\n",
        "import pandas as pd\n",
        "import matplotlib.pyplot as plt\n",
        "\n",
        "print(tf.__version__) #version du TF\n"
      ]
    },
    {
      "cell_type": "code",
      "execution_count": null,
      "metadata": {
        "id": "W-cJMpTSMSvr"
      },
      "outputs": [],
      "source": [
        "print(keras.__version__)"
      ]
    },
    {
      "cell_type": "markdown",
      "metadata": {
        "id": "J8c_c6fZMSvq"
      },
      "source": [
        "On peut télécharger diredctement le dataset Fashion_mnist depuis keras.dataset.  "
      ]
    },
    {
      "cell_type": "code",
      "execution_count": null,
      "metadata": {
        "id": "D-Ir9N7WMSvq"
      },
      "outputs": [],
      "source": [
        "fashion_mnist = keras.datasets.fashion_mnist\n",
        "\n",
        "(train_images, train_labels), (test_images, test_labels) = fashion_mnist.load_data()\n"
      ]
    },
    {
      "cell_type": "markdown",
      "metadata": {
        "id": "zmf96UlDMSvs"
      },
      "source": [
        "\n",
        "\n",
        "La première colonne représente l'étiquette et qu'elle comporte 10 classes, de 0 à 9. Les colonnes restantes sont les données de pixels réelles. Chaque ligne est une représentation d'une image différente sous la forme de données de pixels.\n"
      ]
    },
    {
      "cell_type": "code",
      "execution_count": null,
      "metadata": {
        "id": "DrcuqwFRMSvs"
      },
      "outputs": [],
      "source": [
        "train_images"
      ]
    },
    {
      "cell_type": "code",
      "execution_count": null,
      "metadata": {
        "id": "P4inESN9MSvt"
      },
      "outputs": [],
      "source": [
        "train_images.shape"
      ]
    },
    {
      "cell_type": "markdown",
      "metadata": {
        "id": "9RdXCBI3MSvt"
      },
      "source": [
        "## Préparation des données\n",
        "\n",
        "Les images sont en niveaux de gris. Elles ont des valeurs entre 0 et 255, comme on peut le voir avec cet exemple : "
      ]
    },
    {
      "cell_type": "code",
      "execution_count": null,
      "metadata": {
        "id": "NYhnNebYMSvt"
      },
      "outputs": [],
      "source": [
        "plt.figure()\n",
        "plt.imshow(train_images[1].reshape((28,28)))#reshape en image : tableau en matrice\n",
        "plt.colorbar()\n",
        "plt.grid(False)\n",
        "plt.show()\n"
      ]
    },
    {
      "cell_type": "markdown",
      "metadata": {
        "id": "tL3OOn3LMSvt"
      },
      "source": [
        "Les étiquettes des données sont des catégories numériques, dont les noms sont :\n",
        "\n",
        "Label\t   Description\n",
        "\n",
        "0          T-shirt/top\n",
        "\n",
        "1\t       Trouser\n",
        "\n",
        "2\t       Pullover\n",
        "\n",
        "3\t       Dress\n",
        "\n",
        "4\t       Coat\n",
        "\n",
        "5\t       Sandal\n",
        "\n",
        "6\t       Shirt\n",
        "\n",
        "7\t       Sneaker\n",
        "\n",
        "8\t       Bag\n",
        "\n",
        "9\t       Ankle boot"
      ]
    },
    {
      "cell_type": "code",
      "execution_count": null,
      "metadata": {
        "id": "NoMPgVwXMSvu"
      },
      "outputs": [],
      "source": [
        "class_names = ['T-shirt/top', 'Trouser', 'Pullover', 'Dress', 'Coat', \n",
        "               'Sandal', 'Shirt', 'Sneaker', 'Bag', 'Ankle boot']\n",
        "\n"
      ]
    },
    {
      "cell_type": "markdown",
      "metadata": {
        "id": "wvRDrLcPMSvu"
      },
      "source": [
        "## Affichage des 25 premières images (apprentissage) avec leurs labels"
      ]
    },
    {
      "cell_type": "code",
      "execution_count": null,
      "metadata": {
        "id": "6KzBbcnEMSvu"
      },
      "outputs": [],
      "source": [
        "plt.figure(figsize=(10,10))\n",
        "for i in range(25):\n",
        "    plt.subplot(5,5,i+1)\n",
        "    plt.xticks([])\n",
        "    plt.yticks([])\n",
        "    plt.grid(False)\n",
        "    plt.imshow(train_images[i].reshape((28,28)), cmap=plt.cm.binary)\n",
        "    #plt.xlabel(class_names[train_labels[i]])\n",
        "    plt.xlabel(class_names[train_labels[i].astype(np.int)])\n",
        "plt.show()\n"
      ]
    },
    {
      "cell_type": "markdown",
      "metadata": {
        "id": "kU-9HE2jMSvu"
      },
      "source": [
        "## Construction du modèle (architecture du réseau de neurones)"
      ]
    },
    {
      "cell_type": "code",
      "execution_count": null,
      "metadata": {
        "id": "pIH-2haTMSvu"
      },
      "outputs": [],
      "source": [
        "train_images.shape"
      ]
    },
    {
      "cell_type": "code",
      "execution_count": null,
      "metadata": {
        "id": "fR5_FkjcMSvv"
      },
      "outputs": [],
      "source": [
        "train_images"
      ]
    },
    {
      "cell_type": "code",
      "execution_count": null,
      "metadata": {
        "id": "jLuUKoTKMSvv"
      },
      "outputs": [],
      "source": [
        "train_images = train_images.reshape(60000,28,28)"
      ]
    },
    {
      "cell_type": "code",
      "execution_count": null,
      "metadata": {
        "id": "plzoDbf2MSvv"
      },
      "outputs": [],
      "source": [
        "test_images = test_images.reshape(10000,28,28)"
      ]
    },
    {
      "cell_type": "code",
      "execution_count": null,
      "metadata": {
        "id": "EkRtdtpNMSvv"
      },
      "outputs": [],
      "source": [
        "model = tf.keras.Sequential([\n",
        "    tf.keras.layers.Flatten(input_shape=(28, 28)),\n",
        "    tf.keras.layers.Dense(128, activation='relu'),\n",
        "    tf.keras.layers.Dense(10, activation='softmax')\n",
        "])"
      ]
    },
    {
      "cell_type": "code",
      "execution_count": null,
      "metadata": {
        "id": "a-qpC9upMSvv"
      },
      "outputs": [],
      "source": [
        "## Pour un problème de classification multi-classe\n",
        "\n",
        "model.compile(optimizer='adam',\n",
        "              loss='sparse_categorical_crossentropy',\n",
        "              metrics=['accuracy'])\n"
      ]
    },
    {
      "cell_type": "code",
      "execution_count": null,
      "metadata": {
        "id": "Yc2qAKvdMSvw"
      },
      "outputs": [],
      "source": [
        "\n",
        "## Pour des métriques sur-mesure\n",
        "import keras.backend as K\n",
        "\n",
        "def mean_pred(y_true, y_pred):\n",
        "    return K.mean(y_pred)\n",
        "\n",
        "#model.compile(optimizer='adam', loss='binary_crossentropy', metrics=['accuracy', mean_pred])\n",
        "\n",
        "###Lire la suite sur: https://www.actuia.com/keras/debuter-avec-le-modele-sequentiel-de-keras/\n",
        "               "
      ]
    },
    {
      "cell_type": "markdown",
      "metadata": {
        "id": "rpMQkBRzMSvw"
      },
      "source": [
        "### - Lancer l'entrainement sur l'ensemble d'apprentissage ,avec 10 itérations , et prendre 20% de l'ensemlble d'apprentissage comme ensemble de validation\n",
        "\n",
        "#### Garder l'historique de l'apprentissage dans la variable 'history'"
      ]
    },
    {
      "cell_type": "code",
      "execution_count": null,
      "metadata": {
        "id": "j04qPPbQMSvw"
      },
      "outputs": [],
      "source": [
        "history = model.fit(train_images, train_labels, epochs=10 , validation_split=0.2)"
      ]
    },
    {
      "cell_type": "markdown",
      "metadata": {
        "id": "swd_RaqVMSvw"
      },
      "source": [
        "### - Montrer le graphe de l'historique de l'entrainement sur l'ensemble d'apprentissage et de validation"
      ]
    },
    {
      "cell_type": "code",
      "execution_count": null,
      "metadata": {
        "id": "6ZlodS_mMSvw"
      },
      "outputs": [],
      "source": [
        "loss_curve = history.history[\"loss\"]\n",
        "acc_curve = history.history[\"accuracy\"]\n",
        "\n",
        "loss_val_curve = history.history[\"val_loss\"]\n",
        "acc_val_curve = history.history[\"val_accuracy\"]\n",
        "\n",
        "plt.plot(loss_curve, label=\"Train\")\n",
        "plt.plot(loss_val_curve, label=\"Val\")\n",
        "plt.legend(loc='upper left')\n",
        "plt.title(\"Loss\")\n",
        "plt.show()\n",
        "\n",
        "plt.plot(acc_curve, label=\"Train\")\n",
        "plt.plot(acc_val_curve, label=\"Val\")\n",
        "plt.legend(loc='upper left')\n",
        "plt.title(\"Accuracy\")\n",
        "plt.show()"
      ]
    },
    {
      "cell_type": "code",
      "execution_count": null,
      "metadata": {
        "id": "GsqnJDWKMSvw"
      },
      "outputs": [],
      "source": [
        "test_loss, test_acc = model.evaluate(test_images,  test_labels, verbose=2)\n",
        "\n",
        "print('\\nTest accuracy:', test_acc)"
      ]
    },
    {
      "cell_type": "markdown",
      "metadata": {
        "id": "2iLiaK4iMSvw"
      },
      "source": [
        "## Inférence du modèle\n",
        "On peut effectuer des prédiction à l'aide du modèle entrainé"
      ]
    },
    {
      "cell_type": "code",
      "execution_count": null,
      "metadata": {
        "id": "MOZuIh1CMSvx"
      },
      "outputs": [],
      "source": [
        "predictions = model.predict(test_images)\n"
      ]
    },
    {
      "cell_type": "markdown",
      "metadata": {
        "id": "vdueAvG9MSvx"
      },
      "source": [
        "- \"predictions\" contient les prédicitons des labels de tout l'ensmble de test.\n",
        "- Si on veut voir la prédiction de la première image de l'ensemble de teste:"
      ]
    },
    {
      "cell_type": "code",
      "execution_count": null,
      "metadata": {
        "id": "-RHAxOg6MSvx"
      },
      "outputs": [],
      "source": [
        "predictions[0]\n"
      ]
    },
    {
      "cell_type": "markdown",
      "metadata": {
        "id": "qCUdBFlVMSvx"
      },
      "source": [
        "## Questions :\n",
        "- Que représente ce résultat ? \n",
        "- Comment pourrions nous rendre ce résultat plus lisible?"
      ]
    },
    {
      "cell_type": "markdown",
      "metadata": {
        "id": "PB73c9BaMSvx"
      },
      "source": [
        "- La prédiction ici est un tableau de 10 nombres. Chaque cellule 'i' du tableau représente la probabilité (selon le modèle) que l'image en entrée correspond à la classe dont le label = \"i\". \n",
        "\n",
        "- On peut voir quelle est la probabilité maximale du modèle avec argmax:"
      ]
    },
    {
      "cell_type": "markdown",
      "metadata": {
        "id": "5ejpKb35MSvx"
      },
      "source": [
        "- Selon le modèle, la première image de l'ensemble de teste consite à une imge de la classe 0 => 'T-shirt/top' .\n",
        "- On vérifie si c'est une bonne prédiction en allant voir le label de la première image de l'ensemble de teste."
      ]
    },
    {
      "cell_type": "markdown",
      "metadata": {
        "id": "VBURpLXRMSvx"
      },
      "source": [
        "## Plus de visualisation ?"
      ]
    },
    {
      "cell_type": "code",
      "execution_count": null,
      "metadata": {
        "id": "FfuYafFBMSvx"
      },
      "outputs": [],
      "source": [
        "def plot_image(i, predictions_array, true_label, img):\n",
        "    predictions_array, true_label, img = predictions_array, true_label[i], img[i]\n",
        "    plt.grid(False)\n",
        "    plt.xticks([])\n",
        "    plt.yticks([])\n",
        "\n",
        "    plt.imshow(img.reshape((28,28)), cmap=plt.cm.binary)\n",
        "\n",
        "    predicted_label = np.argmax(predictions_array)\n",
        "    if predicted_label == true_label:\n",
        "        color = 'blue'\n",
        "    else:\n",
        "        color = 'red'\n",
        "\n",
        "    plt.xlabel(\"{} {:2.0f}% ({})\".format(class_names[predicted_label],\n",
        "                                100*np.max(predictions_array),\n",
        "                                class_names[true_label.astype(np.int)]),\n",
        "                                color=color)\n",
        "\n",
        "def plot_value_array(i, predictions_array, true_label):\n",
        "    predictions_array, true_label = predictions_array, true_label[i]\n",
        "    plt.grid(False)\n",
        "    plt.xticks(range(10))\n",
        "    plt.yticks([])\n",
        "    thisplot = plt.bar(range(10), predictions_array, color=\"#777777\")\n",
        "    plt.ylim([0, 1])\n",
        "    predicted_label = np.argmax(predictions_array)\n",
        "\n",
        "    thisplot[predicted_label].set_color('red')\n",
        "    thisplot[true_label.astype(np.int)].set_color('blue')\n"
      ]
    },
    {
      "cell_type": "code",
      "execution_count": null,
      "metadata": {
        "id": "VR1MjzojMSvx"
      },
      "outputs": [],
      "source": [
        "i = 0      #3\n",
        "plt.figure(figsize=(6,3))\n",
        "plt.subplot(1,2,1)\n",
        "plot_image(i, predictions[i], test_labels, test_images)\n",
        "plt.subplot(1,2,2)\n",
        "plot_value_array(i, predictions[i],  test_labels)\n",
        "plt.show()\n"
      ]
    },
    {
      "cell_type": "code",
      "execution_count": null,
      "metadata": {
        "id": "vd2lHYHQMSvx"
      },
      "outputs": [],
      "source": [
        "# Montrer les premier X test images, leurs labels prédits, et leurs labels correctes . \n",
        "# Colorer les prédictions corrects en bleu et les fausses prédictions en rouge.\n",
        "num_rows = 5\n",
        "num_cols = 3\n",
        "num_images = num_rows*num_cols\n",
        "plt.figure(figsize=(2*2*num_cols, 2*num_rows))\n",
        "for i in range(num_images):\n",
        "    plt.subplot(num_rows, 2*num_cols, 2*i+1)\n",
        "    plot_image(i, predictions[i], test_labels, test_images)\n",
        "    plt.subplot(num_rows, 2*num_cols, 2*i+2)\n",
        "    plot_value_array(i, predictions[i], test_labels)\n",
        "plt.tight_layout()\n",
        "plt.show()\n"
      ]
    },
    {
      "cell_type": "markdown",
      "metadata": {
        "id": "vuLlCOBSMSvy"
      },
      "source": [
        "# Exercice 1:\n",
        "\n",
        "Avec ce modèle basique on a obtenu 83% du taux d'accuracy. Pourriez vous faire mieux ?\n",
        "- Essayer de tester avec d'autres modèles en changeant les hyperparamètres (nombre de couches, de neurones, etc.)\n",
        "- Communiquer moi vos noms, votre modèle, et l'accuracy obtenu sur l'ensemble de teste."
      ]
    },
    {
      "cell_type": "code",
      "execution_count": null,
      "metadata": {
        "id": "DgEkYNuwMSvy"
      },
      "outputs": [],
      "source": [
        ""
      ]
    }
  ],
  "metadata": {
    "kernelspec": {
      "display_name": "Python 3 (ipykernel)",
      "language": "python",
      "name": "python3"
    },
    "language_info": {
      "codemirror_mode": {
        "name": "ipython",
        "version": 3
      },
      "file_extension": ".py",
      "mimetype": "text/x-python",
      "name": "python",
      "nbconvert_exporter": "python",
      "pygments_lexer": "ipython3",
      "version": "3.8.10"
    },
    "colab": {
      "name": "TP3_FashionMnist_ex.ipynb",
      "provenance": []
    },
    "accelerator": "GPU"
  },
  "nbformat": 4,
  "nbformat_minor": 0
}
