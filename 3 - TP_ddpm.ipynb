{
  "cells": [
    {
      "cell_type": "markdown",
      "metadata": {
        "id": "view-in-github",
        "colab_type": "text"
      },
      "source": [
        "<a href=\"https://colab.research.google.com/github/lsteffenel/CHPS0905/blob/main/3%20-%20TP_ddpm.ipynb\" target=\"_parent\"><img src=\"https://colab.research.google.com/assets/colab-badge.svg\" alt=\"Open In Colab\"/></a>"
      ]
    },
    {
      "cell_type": "markdown",
      "metadata": {
        "id": "756b572d"
      },
      "source": [
        "# Fashion MNIST Generation with DDPM\n",
        "This notebook was heavily inspired by this [article](https://huggingface.co/blog/annotated-diffusion) and this [notebook](https://colab.research.google.com/github/huggingface/notebooks/blob/main/examples/annotated_diffusion.ipynb#scrollTo=5153024b)."
      ],
      "id": "756b572d"
    },
    {
      "cell_type": "markdown",
      "source": [
        "# 1 - Importer le fichier \"model.py\" dans colab"
      ],
      "metadata": {
        "id": "UUHolIsCaL2a"
      },
      "id": "UUHolIsCaL2a"
    },
    {
      "cell_type": "code",
      "source": [
        "faire un glisser-déposer de model.py dans l'onglet \"Fichiers\""
      ],
      "metadata": {
        "id": "0BRCH9auaS50"
      },
      "id": "0BRCH9auaS50",
      "execution_count": null,
      "outputs": []
    },
    {
      "cell_type": "code",
      "execution_count": null,
      "metadata": {
        "id": "f2B2etyxWaJs"
      },
      "outputs": [],
      "source": [
        "!pip install -q einops datasets"
      ],
      "id": "f2B2etyxWaJs"
    },
    {
      "cell_type": "code",
      "execution_count": null,
      "metadata": {
        "id": "54a15542"
      },
      "outputs": [],
      "source": [
        "import math\n",
        "from inspect import isfunction\n",
        "from functools import partial\n",
        "import random\n",
        "import IPython\n",
        "\n",
        "import matplotlib.pyplot as plt\n",
        "from tqdm.auto import tqdm\n",
        "from einops import rearrange\n",
        "\n",
        "import torch\n",
        "from torch import nn, einsum\n",
        "import torch.nn.functional as F\n",
        "from datasets import load_dataset, load_from_disk\n",
        "\n",
        "from torchvision import transforms\n",
        "from torchvision.utils import make_grid\n",
        "from torch.utils.data import DataLoader\n",
        "import numpy as np\n",
        "from PIL import Image\n",
        "from torch.optim import Adam\n",
        "\n",
        "from torchvision.transforms import Compose, ToTensor, Lambda, ToPILImage, CenterCrop, Resize\n",
        "import matplotlib.pyplot as plt"
      ],
      "id": "54a15542"
    },
    {
      "cell_type": "code",
      "execution_count": null,
      "metadata": {
        "id": "a854c28a"
      },
      "outputs": [],
      "source": [
        "DEVICE = \"cuda\" if torch.cuda.is_available() else \"cpu\"\n",
        "\n",
        "# Reproductibility\n",
        "torch.manual_seed(53)\n",
        "random.seed(53)\n",
        "np.random.seed(53)"
      ],
      "id": "a854c28a"
    },
    {
      "cell_type": "markdown",
      "metadata": {
        "id": "e33f10db"
      },
      "source": [
        "## Create dataset\n",
        "We will use the library HuggingFace Datasets to get our Fashion MNIST."
      ],
      "id": "e33f10db"
    },
    {
      "cell_type": "code",
      "execution_count": null,
      "metadata": {
        "id": "918c0138"
      },
      "outputs": [],
      "source": [
        "dataset = load_dataset(\"fashion_mnist\")  # Use this one if you're not on Jean Zay\n",
        "dataset"
      ],
      "id": "918c0138"
    },
    {
      "cell_type": "markdown",
      "metadata": {
        "id": "cfe4d4f5"
      },
      "source": [
        "As you can see the dataset is composed of two subparts: train and test. So the dataset is already split for us. We'll use the train part for now. <br/>\n",
        "We can also see that the dataset as two features per sample: 'image' corresponding to the PIL version of the image and 'label' corresponding to the class of the image (shoe, shirt...). We can also see that there are 60 000 samples in our train dataset."
      ],
      "id": "cfe4d4f5"
    },
    {
      "cell_type": "code",
      "execution_count": null,
      "metadata": {
        "id": "2280400d"
      },
      "outputs": [],
      "source": [
        "train_dataset = dataset['train']\n",
        "train_dataset[0]"
      ],
      "id": "2280400d"
    },
    {
      "cell_type": "markdown",
      "metadata": {
        "id": "7978ad3d"
      },
      "source": [
        "Each sample of a HuggingFace dataset is a dictionary containing the data."
      ],
      "id": "7978ad3d"
    },
    {
      "cell_type": "code",
      "execution_count": null,
      "metadata": {
        "id": "0d157e11"
      },
      "outputs": [],
      "source": [
        "image = train_dataset[0]['image']\n",
        "image"
      ],
      "id": "0d157e11"
    },
    {
      "cell_type": "code",
      "execution_count": null,
      "metadata": {
        "id": "5dea3e5a"
      },
      "outputs": [],
      "source": [
        "image_array = np.asarray(image, dtype=np.uint8)\n",
        "print(f\"shape of the image: {image_array.shape}\")\n",
        "print(f\"min: {image_array.min()}, max: {image_array.max()}\")"
      ],
      "id": "5dea3e5a"
    },
    {
      "cell_type": "markdown",
      "metadata": {
        "id": "f86937e9"
      },
      "source": [
        "We will now create a function that get the Fashion MNIST dataset needed, apply all the transformations we want on it and encapsulate that dataset in a dataloader."
      ],
      "id": "f86937e9"
    },
    {
      "cell_type": "code",
      "execution_count": null,
      "metadata": {
        "id": "e646a7b1"
      },
      "outputs": [],
      "source": [
        "# load hugging face dataset from the DSDIR\n",
        "def get_dataset(data_path, batch_size, test = False):\n",
        "\n",
        "    dataset = load_dataset(data_path)\n",
        "\n",
        "    # define image transformations (e.g. using torchvision)\n",
        "    transform = Compose([\n",
        "        transforms.RandomHorizontalFlip(),  # Data augmentation\n",
        "        transforms.ToTensor(),  # Transform PIL image into tensor of value between [0,1]\n",
        "        transforms.Lambda(lambda t: (t * 2) - 1)  # Normalize values between [-1,1]\n",
        "    ])\n",
        "\n",
        "    # define function for HF dataset transform\n",
        "    def transforms_im(examples):\n",
        "        examples['pixel_values'] = [transform(image) for image in examples['image']]\n",
        "        del examples['image']\n",
        "        return examples\n",
        "\n",
        "    dataset = dataset.with_transform(transforms_im).remove_columns('label')  # We don't need it\n",
        "    channels, image_size, _ = dataset['train'][0]['pixel_values'].shape\n",
        "\n",
        "    if test:\n",
        "        dataloader = DataLoader(dataset['test'], batch_size=batch_size)\n",
        "    else:\n",
        "        dataloader = DataLoader(dataset['train'], batch_size=batch_size, shuffle=True)\n",
        "\n",
        "    len_dataloader = len(dataloader)\n",
        "    print(f\"channels: {channels}, image dimension: {image_size}, len_dataloader: {len_dataloader}\")\n",
        "\n",
        "    return dataloader, channels, image_size, len_dataloader"
      ],
      "id": "e646a7b1"
    },
    {
      "cell_type": "markdown",
      "metadata": {
        "id": "413a3fea"
      },
      "source": [
        "We choose the parameters and we instantiate the dataset:"
      ],
      "id": "413a3fea"
    },
    {
      "cell_type": "code",
      "execution_count": null,
      "metadata": {
        "id": "918233da"
      },
      "outputs": [],
      "source": [
        "# Dataset parameters\n",
        "batch_size = 64\n",
        "data_path = \"fashion_mnist\""
      ],
      "id": "918233da"
    },
    {
      "cell_type": "code",
      "execution_count": null,
      "metadata": {
        "id": "85939f9d"
      },
      "outputs": [],
      "source": [
        "train_dataloader, channels, image_size, len_dataloader = get_dataset(data_path, batch_size)\n",
        "\n",
        "batch_image = next(iter(train_dataloader))['pixel_values']\n",
        "batch_image.shape"
      ],
      "id": "85939f9d"
    },
    {
      "cell_type": "markdown",
      "metadata": {
        "id": "104db929"
      },
      "source": [
        "We also create a function that allows us to see a batch of images:"
      ],
      "id": "104db929"
    },
    {
      "cell_type": "code",
      "execution_count": null,
      "metadata": {
        "id": "196370c2"
      },
      "outputs": [],
      "source": [
        "def normalize_im(images):\n",
        "    shape = images.shape\n",
        "    images = images.view(shape[0], -1)\n",
        "    images -= images.min(1, keepdim=True)[0]\n",
        "    images /= images.max(1, keepdim=True)[0]\n",
        "    return images.view(shape)\n",
        "\n",
        "def show_images(batch):\n",
        "    plt.imshow(torch.permute(make_grid(normalize_im(batch)), (1,2,0)))\n",
        "    plt.show()"
      ],
      "id": "196370c2"
    },
    {
      "cell_type": "code",
      "execution_count": null,
      "metadata": {
        "id": "96334e60"
      },
      "outputs": [],
      "source": [
        "show_images(batch_image[:])"
      ],
      "id": "96334e60"
    },
    {
      "cell_type": "markdown",
      "metadata": {
        "id": "1befee67"
      },
      "source": [
        "## Forward Diffusion\n",
        "The aim of this part is to create a function that will add noise to any image at any step (following the DDPM diffusion process)."
      ],
      "id": "1befee67"
    },
    {
      "cell_type": "markdown",
      "metadata": {
        "id": "231629ad"
      },
      "source": [
        "### Beta scheduling\n",
        "First, we create a function that will compute every betas of every steps (following a specific shedule). We will only create a function for the linear schedule (original DDPM) and the cosine schedule (improved DDPM):"
      ],
      "id": "231629ad"
    },
    {
      "cell_type": "code",
      "execution_count": null,
      "metadata": {
        "id": "0039d38d"
      },
      "outputs": [],
      "source": [
        "# Different type of beta schedule\n",
        "def linear_beta_schedule(timesteps, beta_start = 0.0001, beta_end = 0.02):\n",
        "    \"\"\"\n",
        "    linar schedule from the original DDPM paper https://arxiv.org/abs/2006.11239\n",
        "    \"\"\"\n",
        "    return torch.linspace(beta_start, beta_end, timesteps)\n",
        "\n",
        "\n",
        "def cosine_beta_schedule(timesteps, s=0.008):\n",
        "    \"\"\"\n",
        "    cosine schedule as proposed in https://arxiv.org/abs/2102.09672\n",
        "    \"\"\"\n",
        "    steps = timesteps + 1\n",
        "    x = torch.linspace(0, timesteps, steps)\n",
        "    alphas_cumprod = torch.cos(((x / timesteps) + s) / (1 + s) * torch.pi * 0.5) ** 2\n",
        "    alphas_cumprod = alphas_cumprod / alphas_cumprod[0]\n",
        "    betas = 1 - (alphas_cumprod[1:] / alphas_cumprod[:-1])\n",
        "    return torch.clip(betas, 0.0001, 0.9999)\n"
      ],
      "id": "0039d38d"
    },
    {
      "cell_type": "markdown",
      "metadata": {
        "id": "e18d1b38"
      },
      "source": [
        "### Constants calculation\n",
        "We will now create a function to calculate every constants we need for our Diffusion Model. <br/>\n",
        "Constants:\n",
        "- $ \\beta_t $: betas\n",
        "- $ \\sqrt{\\frac{1}{\\alpha_t}} $: sqrt_recip_alphas\n",
        "- $ \\sqrt{\\bar{\\alpha}_t} $: sqrt_alphas_cumprod\n",
        "- $ \\sqrt{1-\\bar{\\alpha}_t} $: sqrt_one_minus_alphas_cumprod\n",
        "- $ \\tilde{\\beta}_t = \\beta_t\\frac{1-\\bar{\\alpha}_{t-1}}{1-\\bar{\\alpha}_t} $: posterior_variance"
      ],
      "id": "e18d1b38"
    },
    {
      "cell_type": "code",
      "execution_count": null,
      "metadata": {
        "id": "84251513"
      },
      "outputs": [],
      "source": [
        "# Function to get alphas and betas\n",
        "def get_alph_bet(timesteps, schedule=cosine_beta_schedule):\n",
        "\n",
        "    # define beta\n",
        "    betas = schedule(timesteps)\n",
        "\n",
        "    # define alphas\n",
        "    alphas = 1. - betas\n",
        "    alphas_cumprod = torch.cumprod(alphas, axis=0) # cumulative product of alpha\n",
        "    alphas_cumprod_prev = F.pad(alphas_cumprod[:-1], (1, 0), value=1.0)  # corresponding to the prev const\n",
        "    sqrt_recip_alphas = torch.sqrt(1.0 / alphas)\n",
        "\n",
        "    # calculations for diffusion q(x_t | x_{t-1}) and others\n",
        "    sqrt_alphas_cumprod = torch.sqrt(alphas_cumprod)\n",
        "    sqrt_one_minus_alphas_cumprod = torch.sqrt(1. - alphas_cumprod)\n",
        "\n",
        "    # calculations for posterior q(x_{t-1} | x_t, x_0)\n",
        "    posterior_variance = betas * (1. - alphas_cumprod_prev) / (1. - alphas_cumprod)\n",
        "\n",
        "    const_dict = {\n",
        "        'betas': betas,\n",
        "        'sqrt_recip_alphas': sqrt_recip_alphas,\n",
        "        'sqrt_alphas_cumprod': sqrt_alphas_cumprod,\n",
        "        'sqrt_one_minus_alphas_cumprod': sqrt_one_minus_alphas_cumprod,\n",
        "        'posterior_variance': posterior_variance\n",
        "    }\n",
        "\n",
        "    return const_dict"
      ],
      "id": "84251513"
    },
    {
      "cell_type": "markdown",
      "metadata": {
        "id": "d5658d8e"
      },
      "source": [
        "### Difference between Linear and Cosine schedule\n",
        "We can check the differences between the constants when we change the parameters:"
      ],
      "id": "d5658d8e"
    },
    {
      "cell_type": "code",
      "execution_count": null,
      "metadata": {
        "id": "7bfdf98c"
      },
      "outputs": [],
      "source": [
        "T = 1000\n",
        "const_linear_dict = get_alph_bet(T, schedule=linear_beta_schedule)\n",
        "const_cosine_dict = get_alph_bet(T, schedule=cosine_beta_schedule)\n",
        "\n",
        "plt.plot(np.arange(T), const_linear_dict['sqrt_alphas_cumprod'], color='r', label='linear')\n",
        "plt.plot(np.arange(T), const_cosine_dict['sqrt_alphas_cumprod'], color='g', label='cosine')\n",
        "\n",
        "# Naming the x-axis, y-axis and the whole graph\n",
        "plt.xlabel(\"Step\")\n",
        "plt.ylabel(\"alpha_bar\")\n",
        "plt.title(\"Linear and Cosine schedules\")\n",
        "\n",
        "# Adding legend, which helps us recognize the curve according to it's color\n",
        "plt.legend()\n",
        "\n",
        "# To load the display window\n",
        "plt.show()"
      ],
      "id": "7bfdf98c"
    },
    {
      "cell_type": "markdown",
      "metadata": {
        "id": "b1537984"
      },
      "source": [
        "### Definition of $ q(x_t|x_0) $"
      ],
      "id": "b1537984"
    },
    {
      "cell_type": "code",
      "execution_count": null,
      "metadata": {
        "id": "cb10e05b"
      },
      "outputs": [],
      "source": [
        "# extract the values needed for time t\n",
        "def extract(constants, batch_t, x_shape):\n",
        "    diffusion_batch_size = batch_t.shape[0]\n",
        "\n",
        "    # get a list of the appropriate constants of each timesteps\n",
        "    out = constants.gather(-1, batch_t.cpu())\n",
        "\n",
        "    return out.reshape(diffusion_batch_size, *((1,) * (len(x_shape) - 1))).to(batch_t.device)\n"
      ],
      "id": "cb10e05b"
    },
    {
      "cell_type": "markdown",
      "metadata": {
        "id": "2f5991bd"
      },
      "source": [
        "Now that we have every constants that we need, we can create a function that will add noise to an image following the forward diffusion process. This function (q_sample) corresponds to $ q(x_t|x_0) $:\n",
        "\n",
        "![q_sample](https://docs.google.com/drawings/d/e/2PACX-1vQJ55FfJZ8FehNhnIEEeWUDaOAZqK5BuaadB9Xacx2bA222nNApwMHYzhgILaUrze_pTlc974BELJ2D/pub?w=3210&h=651)"
      ],
      "id": "2f5991bd"
    },
    {
      "cell_type": "code",
      "execution_count": null,
      "metadata": {
        "id": "28645450"
      },
      "outputs": [],
      "source": [
        "# forward diffusion (using the nice property)\n",
        "def q_sample(constants_dict, batch_x0, batch_t, noise=None):\n",
        "    if noise is None:\n",
        "        noise = torch.randn_like(batch_x0)\n",
        "\n",
        "    sqrt_alphas_cumprod_t = extract(constants_dict['sqrt_alphas_cumprod'], batch_t, batch_x0.shape)\n",
        "    sqrt_one_minus_alphas_cumprod_t = extract(\n",
        "        constants_dict['sqrt_one_minus_alphas_cumprod'], batch_t, batch_x0.shape\n",
        "    )\n",
        "\n",
        "    return sqrt_alphas_cumprod_t * batch_x0 + sqrt_one_minus_alphas_cumprod_t * noise"
      ],
      "id": "28645450"
    },
    {
      "cell_type": "markdown",
      "metadata": {
        "id": "dcc05f40"
      },
      "source": [
        "We can now visualize how the forward diffusion process adds noise gradually the image according to its parameters:"
      ],
      "id": "dcc05f40"
    },
    {
      "cell_type": "code",
      "execution_count": null,
      "metadata": {
        "id": "7ed20740"
      },
      "outputs": [],
      "source": [
        "T = 1000\n",
        "const_linear_dict = get_alph_bet(T, schedule=linear_beta_schedule)\n",
        "const_cosine_dict = get_alph_bet(T, schedule=cosine_beta_schedule)\n",
        "\n",
        "batch_t = torch.arange(batch_size)*(T//batch_size)  # get a range of timesteps from 0 to T\n",
        "print(f\"timesteps: {batch_t}\")\n",
        "noisy_batch_linear = q_sample(const_linear_dict, batch_image, batch_t, noise=None)\n",
        "noisy_batch_cosine = q_sample(const_cosine_dict, batch_image, batch_t, noise=None)\n",
        "\n",
        "print(\"Original images:\")\n",
        "show_images(batch_image[:])\n",
        "\n",
        "print(\"Noised images with linear shedule:\")\n",
        "show_images(noisy_batch_linear[:])\n",
        "\n",
        "print(\"Noised images with cosine shedule:\")\n",
        "show_images(noisy_batch_cosine[:])"
      ],
      "id": "7ed20740"
    },
    {
      "cell_type": "markdown",
      "metadata": {
        "id": "565d3c80"
      },
      "source": [
        "## Reverse Diffusion Process"
      ],
      "id": "565d3c80"
    },
    {
      "cell_type": "markdown",
      "metadata": {
        "id": "251808b0"
      },
      "source": [
        "### Model definition\n",
        "The reverse diffusion process is made by a deep learning model. We choosed a Unet model with attention. The model is optimized following some papers like [ConvNeXt](https://arxiv.org/pdf/2201.03545.pdf). You can inspect the model in the model.py file."
      ],
      "id": "251808b0"
    },
    {
      "cell_type": "code",
      "execution_count": null,
      "metadata": {
        "id": "29f00028"
      },
      "outputs": [],
      "source": [
        "from model import Unet\n",
        "\n",
        "model = Unet(\n",
        "    dim=28,\n",
        "    init_dim=None,\n",
        "    out_dim=None,\n",
        "    dim_mults=(1, 2, 4),\n",
        "    channels=1,\n",
        "    with_time_emb=True,\n",
        "    convnext_mult=2,\n",
        ")"
      ],
      "id": "29f00028"
    },
    {
      "cell_type": "markdown",
      "metadata": {
        "id": "0aaf936c"
      },
      "source": [
        "### Definition of $ p_{\\theta}(x_{t-1}|x_t) $\n",
        "Now we need a function to retrieve $x_{t-1}$ from $x_t$ and the predicted $z_t$. It corresponds to the reverse diffusion kernel:\n",
        "![p_sample](https://docs.google.com/drawings/d/e/2PACX-1vRogMTbBI_MtUz2WvFRKef0IKSNaKuFe475llm8nARBbvVCxezq4L00wJV7HjJSLm5mvODncdHDQvKq/pub?w=4407&h=679)"
      ],
      "id": "0aaf936c"
    },
    {
      "cell_type": "code",
      "execution_count": null,
      "metadata": {
        "id": "00443d8e"
      },
      "outputs": [],
      "source": [
        "@torch.no_grad()\n",
        "def p_sample(constants_dict, batch_xt, predicted_noise, batch_t):\n",
        "    # We first get every constants needed and send them in right device\n",
        "    betas_t = extract(constants_dict['betas'], batch_t, batch_xt.shape).to(batch_xt.device)\n",
        "    sqrt_one_minus_alphas_cumprod_t = extract(\n",
        "        constants_dict['sqrt_one_minus_alphas_cumprod'], batch_t, batch_xt.shape\n",
        "    ).to(batch_xt.device)\n",
        "    sqrt_recip_alphas_t = extract(\n",
        "        constants_dict['sqrt_recip_alphas'], batch_t, batch_xt.shape\n",
        "    ).to(batch_xt.device)\n",
        "\n",
        "    # Equation 11 in the ddpm paper\n",
        "    # Use predicted noise to predict the mean (mu theta)\n",
        "    model_mean = sqrt_recip_alphas_t * (\n",
        "        batch_xt - betas_t * predicted_noise / sqrt_one_minus_alphas_cumprod_t\n",
        "    )\n",
        "\n",
        "    # We have to be careful to not add noise if we want to predict the final image\n",
        "    predicted_image = torch.zeros(batch_xt.shape).to(batch_xt.device)\n",
        "    t_zero_index = (batch_t == torch.zeros(batch_t.shape).to(batch_xt.device))\n",
        "\n",
        "    # Algorithm 2 line 4, we add noise when timestep is not 1:\n",
        "    posterior_variance_t = extract(constants_dict['posterior_variance'], batch_t, batch_xt.shape)\n",
        "    noise = torch.randn_like(batch_xt)  # create noise, same shape as batch_x\n",
        "    predicted_image[~t_zero_index] = model_mean[~t_zero_index] + (\n",
        "        torch.sqrt(posterior_variance_t[~t_zero_index]) * noise[~t_zero_index]\n",
        "    )\n",
        "\n",
        "    # If t=1 we don't add noise to mu\n",
        "    predicted_image[t_zero_index] = model_mean[t_zero_index]\n",
        "\n",
        "    return predicted_image"
      ],
      "id": "00443d8e"
    },
    {
      "cell_type": "markdown",
      "metadata": {
        "id": "c6e13aa1"
      },
      "source": [
        "## Sampling"
      ],
      "id": "c6e13aa1"
    },
    {
      "cell_type": "markdown",
      "metadata": {
        "id": "459df8a2"
      },
      "source": [
        "We will now create the sampling function. Given trained model, it should generate all the images we want."
      ],
      "id": "459df8a2"
    },
    {
      "cell_type": "markdown",
      "metadata": {
        "id": "1e3cdf15"
      },
      "source": [
        "With the reverse diffusion process and a trained model, we can now make the sampling function corresponding to this algorithm:\n",
        "![sampling](https://docs.google.com/drawings/d/e/2PACX-1vT205aFxllD7gspWypXkoJVvkftJU0B0AiBbHZvZvmHFx_ntqY0oofBD_i874FNrrbJ1CWrOwWwLtUg/pub?w=1398&h=671)"
      ],
      "id": "1e3cdf15"
    },
    {
      "cell_type": "code",
      "execution_count": null,
      "metadata": {
        "id": "710ef636"
      },
      "outputs": [],
      "source": [
        "# Algorithm 2 (including returning all images)\n",
        "@torch.no_grad()\n",
        "def sampling(model, shape, T, constants_dict):\n",
        "    b = shape[0]\n",
        "    # start from pure noise (for each example in the batch)\n",
        "    batch_xt = torch.randn(shape, device=DEVICE)\n",
        "\n",
        "    batch_t = torch.ones(shape[0]) * T  # create a vector with batch-size time the timestep\n",
        "    batch_t = batch_t.type(torch.int64).to(DEVICE)\n",
        "\n",
        "    imgs = []\n",
        "\n",
        "    for t in tqdm(reversed(range(0, T)), desc='sampling loop time step', total=T):\n",
        "        batch_t -= 1\n",
        "        predicted_noise = model(batch_xt, batch_t)\n",
        "\n",
        "        batch_xt = p_sample(constants_dict, batch_xt, predicted_noise, batch_t)\n",
        "\n",
        "        imgs.append(batch_xt.cpu())\n",
        "\n",
        "    return imgs"
      ],
      "id": "710ef636"
    },
    {
      "cell_type": "markdown",
      "metadata": {
        "id": "df50675e"
      },
      "source": [
        "## Training\n",
        "We will instantiate every objects needed with fixed parameters here. We can try different hyperparameters by coming back here and changing the parameters."
      ],
      "id": "df50675e"
    },
    {
      "cell_type": "code",
      "execution_count": null,
      "metadata": {
        "id": "a3884522"
      },
      "outputs": [],
      "source": [
        "# Dataset parameters\n",
        "batch_size = 64\n",
        "data_path = \"fashion_mnist\"\n",
        "train_dataloader, channels, image_size, len_dataloader = get_dataset(data_path, batch_size)"
      ],
      "id": "a3884522"
    },
    {
      "cell_type": "code",
      "execution_count": null,
      "metadata": {
        "id": "b6b4a2bd"
      },
      "outputs": [],
      "source": [
        "constants_dict = get_alph_bet(T, schedule=linear_beta_schedule)"
      ],
      "id": "b6b4a2bd"
    },
    {
      "cell_type": "code",
      "execution_count": null,
      "metadata": {
        "id": "ba387427"
      },
      "outputs": [],
      "source": [
        "epochs = 3\n",
        "T = 1000  # = T"
      ],
      "id": "ba387427"
    },
    {
      "cell_type": "code",
      "execution_count": null,
      "metadata": {
        "id": "31933494"
      },
      "outputs": [],
      "source": [
        "model = Unet(\n",
        "    dim=image_size,\n",
        "    init_dim=None,\n",
        "    out_dim=None,\n",
        "    dim_mults=(1, 2, 4),\n",
        "    channels=channels,\n",
        "    with_time_emb=True,\n",
        "    convnext_mult=2,\n",
        ").to(DEVICE)\n"
      ],
      "id": "31933494"
    },
    {
      "cell_type": "code",
      "execution_count": null,
      "metadata": {
        "id": "92fb2a17"
      },
      "outputs": [],
      "source": [
        "criterion = nn.SmoothL1Loss()\n",
        "optimizer = Adam(model.parameters(), lr=1e-4)"
      ],
      "id": "92fb2a17"
    },
    {
      "cell_type": "markdown",
      "metadata": {
        "id": "f059d28f"
      },
      "source": [
        "### Training loop\n",
        "![training_algorithm](https://docs.google.com/drawings/d/e/2PACX-1vRZYVrTttVD1qk5YjVT_CmQfFz2kR2cIqIMHKV4QE6LWU67mUl14NJowz-GKldITkFwsR5iM6w3epKl/pub?w=1395&h=670)"
      ],
      "id": "f059d28f"
    },
    {
      "cell_type": "code",
      "execution_count": null,
      "metadata": {
        "id": "4bab979d"
      },
      "outputs": [],
      "source": [
        "for epoch in range(epochs):\n",
        "    loop = tqdm(train_dataloader, desc=f\"Epoch {epoch+1}/{epochs}\")\n",
        "    for batch in loop:\n",
        "        optimizer.zero_grad()\n",
        "\n",
        "        batch_size_iter = batch[\"pixel_values\"].shape[0]\n",
        "        batch_image = batch[\"pixel_values\"].to(DEVICE)\n",
        "\n",
        "        # Algorithm 1 line 3: sample t uniformally for every example in the batch\n",
        "        batch_t = torch.randint(0, T, (batch_size_iter,), device=DEVICE).long()\n",
        "\n",
        "        noise = torch.randn_like(batch_image)\n",
        "\n",
        "        x_noisy = q_sample(constants_dict, batch_image, batch_t, noise=noise)\n",
        "        predicted_noise = model(x_noisy, batch_t)\n",
        "\n",
        "        loss = criterion(noise, predicted_noise)\n",
        "\n",
        "        loop.set_postfix(loss=loss.item())\n",
        "\n",
        "        loss.backward()\n",
        "        optimizer.step()\n",
        "\n",
        "\n",
        "print(\"check generation:\")\n",
        "list_gen_imgs = sampling(model, (batch_size, channels, image_size, image_size), T, constants_dict)\n",
        "show_images(list_gen_imgs[-1])\n"
      ],
      "id": "4bab979d"
    },
    {
      "cell_type": "markdown",
      "metadata": {
        "id": "2489e819"
      },
      "source": [
        "## View of the diffusion process"
      ],
      "id": "2489e819"
    },
    {
      "cell_type": "code",
      "execution_count": null,
      "metadata": {
        "id": "09ce451d"
      },
      "outputs": [],
      "source": [
        "def make_gif(frame_list):\n",
        "    to_pil = ToPILImage()\n",
        "    frames = [to_pil(make_grid(normalize_im(tens_im))) for tens_im in frame_list]\n",
        "    frame_one = frames[0]\n",
        "    frame_one.save(\"sampling.gif.png\", format=\"GIF\", append_images=frames[::5], save_all=True, duration=10, loop=0)\n",
        "\n",
        "    return IPython.display.Image(filename=\"./sampling.gif.png\")"
      ],
      "id": "09ce451d"
    },
    {
      "cell_type": "code",
      "execution_count": null,
      "metadata": {
        "colab": {
          "background_save": true
        },
        "id": "4f665ac3"
      },
      "outputs": [],
      "source": [
        "make_gif(list_gen_imgs)"
      ],
      "id": "4f665ac3"
    },
    {
      "cell_type": "code",
      "execution_count": null,
      "metadata": {
        "id": "bfa40b6b"
      },
      "outputs": [],
      "source": [],
      "id": "bfa40b6b"
    }
  ],
  "metadata": {
    "accelerator": "GPU",
    "colab": {
      "gpuType": "T4",
      "provenance": [],
      "include_colab_link": true
    },
    "kernelspec": {
      "display_name": "pytorch-gpu-1.13.0_py3.10.8",
      "language": "python",
      "name": "module-conda-env-pytorch-gpu-1.13.0_py3.10.8"
    },
    "language_info": {
      "codemirror_mode": {
        "name": "ipython",
        "version": 3
      },
      "file_extension": ".py",
      "mimetype": "text/x-python",
      "name": "python",
      "nbconvert_exporter": "python",
      "pygments_lexer": "ipython3",
      "version": "3.10.8"
    }
  },
  "nbformat": 4,
  "nbformat_minor": 5
}