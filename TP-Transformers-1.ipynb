{
 "cells": [
  {
   "cell_type": "markdown",
   "metadata": {},
   "source": [
    "<img width=\"800px\" src=\"../fidle/img/header.svg\"></img>\n",
    "\n",
    "# <!-- TITLE --> [TRANS2] - IMDB, Sentiment analysis with Transformers \n",
    "<!-- DESC --> Using a Tranformer to perform a sentiment analysis (IMDB) - Colab version\n",
    "<!-- AUTHOR : Hatim Bourfoune (IDRIS) and Nathan Cassereau (IDRIS) -->\n",
    "\n",
    "By : Hatim Bourfoune (IDRIS) and Nathan Cassereau (IDRIS)\n",
    "\n",
    "\n",
    "## Objectives :\n",
    " - Complement the learning of a Transformer to perform a sentiment analysis\n",
    " - Understand the use of a pre-trained transformer\n",
    "\n",
    "This task is exactly the same as the Sentiment analysis with text embedding. Only this time, \n",
    "we are going to exploit the strenght of transformers. Considering how computation-heavy transformer \n",
    "pretraining is, we are going to use a pretrained BERT model from HuggingFace. \n",
    "This notebook performs the fine-tuning process. If possible, try to use a GPU to speed up \n",
    "the training, transformers are difficult to train on CPU.\n",
    "\n",
    "## What we are going to do:\n",
    "\n",
    "* Retrieve the dataset\n",
    "* Prepare the dataset\n",
    "* Fetch a pretrained BERT model from HuggingFace's platform (https://huggingface.co/models)\n",
    "* Fine-tune the model on a sequence classification task: the sentiment analysis of the IMDB dataset\n",
    "* Evaluate the result\n"
   ]
  },
  {
   "cell_type": "markdown",
   "metadata": {
    "id": "oFKuY9XfOE8i"
   },
   "source": [
    "## Installations\n",
    "\n",
    "**IMPORTANT :** We will need to use the library `transformers` created by HuggingFace."
   ]
  },
  {
   "cell_type": "code",
   "execution_count": null,
   "metadata": {
    "id": "50QKMUQzPv3n"
   },
   "outputs": [],
   "source": [
    "!pip install transformers"
   ]
  },
  {
   "cell_type": "markdown",
   "metadata": {
    "id": "RbvDGdh5OE8r"
   },
   "source": [
    "## Imports and initialisation "
   ]
  },
  {
   "cell_type": "code",
   "execution_count": null,
   "metadata": {
    "id": "ZrV8ONYZPi8L"
   },
   "outputs": [],
   "source": [
    "import numpy as np\n",
    "\n",
    "import tensorflow as tf\n",
    "import tensorflow.keras as keras\n",
    "import tensorflow.keras.datasets.imdb as imdb\n",
    "from tensorflow.keras.layers import Dense, Dropout\n",
    "from tensorflow.keras.optimizers import Adam\n",
    "from tensorflow.keras.losses import SparseCategoricalCrossentropy\n",
    "from tensorflow.keras.metrics import SparseCategoricalAccuracy\n",
    "\n",
    "from transformers import (\n",
    "    DistilBertTokenizer,\n",
    "    TFDistilBertModel,\n",
    "    DataCollatorWithPadding,\n",
    "    BertTokenizer,\n",
    "    TFBertModel\n",
    ")\n",
    "\n",
    "from tqdm.notebook import tqdm\n",
    "import itertools\n",
    "import multiprocessing\n",
    "import os\n",
    "import matplotlib.pyplot as plt\n",
    "import seaborn as sns\n",
    "\n",
    "print(\"Tensorflow \", tf.__version__)\n",
    "n_gpus = len(tf.config.list_physical_devices('GPU'))\n",
    "print(\"#GPUs: \", n_gpus)\n",
    "if n_gpus > 0:\n",
    "    !nvidia-smi -L\n",
    "os.environ[\"TOKENIZERS_PARALLELISM\"] = \"true\"\n",
    "\n",
    "np.random.seed(987654321)\n",
    "tf.random.set_seed(987654321)"
   ]
  },
  {
   "cell_type": "markdown",
   "metadata": {
    "id": "PKcpPVxzOE8y"
   },
   "source": [
    "## Parameters\n",
    "\n",
    "* `vocab_size` refers to the number of words which will be remembered in our vocabulary.\n",
    "* `hide_most_frequently` is the number of ignored words, among the most common ones.\n",
    "* `review_len` is the review length.\n",
    "* `n_cpus` is the number of CPU which will be used for data preprocessing.\n",
    "* `distil` refers to whether or not we are going to use a DistilBert model or a regular Bert model."
   ]
  },
  {
   "cell_type": "code",
   "execution_count": null,
   "metadata": {
    "id": "FhIuZkS2PnTE"
   },
   "outputs": [],
   "source": [
    "vocab_size = 30000\n",
    "hide_most_frequently = 0\n",
    "\n",
    "review_len = 512\n",
    "\n",
    "epochs = 1\n",
    "batch_size = 32\n",
    "\n",
    "fit_verbosity = 1\n",
    "scale = 1\n",
    "\n",
    "n_cpus = 1\n",
    "distil = True"
   ]
  },
  {
   "cell_type": "markdown",
   "metadata": {
    "id": "fjGT9ymIOE83"
   },
   "source": [
    "## Retrieve the dataset"
   ]
  },
  {
   "cell_type": "code",
   "execution_count": null,
   "metadata": {
    "id": "qaRtDy9wQinS"
   },
   "outputs": [],
   "source": [
    "(x_train, y_train), (x_test, y_test) = imdb.load_data(\n",
    "    num_words=vocab_size,\n",
    "    skip_top=hide_most_frequently,\n",
    "    seed=123456789,\n",
    ")\n",
    "\n",
    "\n",
    "y_train = np.asarray(y_train).astype('float32')\n",
    "y_test  = np.asarray(y_test ).astype('float32')\n",
    "\n",
    "n1 = int(scale * len(x_train))\n",
    "n2 = int(scale * len(x_test))\n",
    "x_train, y_train = x_train[:n1], y_train[:n1]\n",
    "x_test,  y_test  = x_test[:n2],  y_test[:n2]\n",
    "\n",
    "print(\"x_train : {}  y_train : {}\".format(x_train.shape, y_train.shape))\n",
    "print(\"x_test  : {}  y_test  : {}\".format(x_test.shape,  y_test.shape))\n",
    "print('\\nReview sample (x_train[12]) :\\n\\n',x_train[12])"
   ]
  },
  {
   "cell_type": "code",
   "execution_count": null,
   "metadata": {
    "id": "nbF1uktpRdXy"
   },
   "outputs": [],
   "source": [
    "word_index = imdb.get_word_index()\n",
    "\n",
    "word_index = {w:(i+3) for w,i in word_index.items()}\n",
    "word_index.update({'[PAD]':0, '[CLS]':1, '[UNK]':2})\n",
    "index_word = {index:word for word,index in word_index.items()} \n",
    "\n",
    "# Add a nice function to transpose:\n",
    "def dataset2text(review):\n",
    "    return ' '.join([index_word.get(i, \"?\") for i in review[1:]])"
   ]
  },
  {
   "cell_type": "code",
   "execution_count": null,
   "metadata": {
    "id": "DifmZNsKR38n"
   },
   "outputs": [],
   "source": [
    "print(dataset2text(x_train[12]))"
   ]
  },
  {
   "cell_type": "markdown",
   "metadata": {
    "id": "i-TNspUcOE8_"
   },
   "source": [
    "## Fetch the model from HuggingFace"
   ]
  },
  {
   "cell_type": "code",
   "execution_count": null,
   "metadata": {
    "id": "q04e6x2yOE9B"
   },
   "outputs": [],
   "source": [
    "def load_model(distil):\n",
    "    if distil:\n",
    "        bert_model = TFDistilBertModel.from_pretrained(\"distilbert-base-uncased\")\n",
    "        tokenizer = DistilBertTokenizer.from_pretrained(\"distilbert-base-uncased\")\n",
    "    else:\n",
    "        bert_model = TFBertModel.from_pretrained(\"bert-base-uncased\")\n",
    "        tokenizer = BertTokenizer.from_pretrained(\"bert-base-uncased\")\n",
    "    return bert_model, tokenizer\n",
    "\n",
    "bert_model, tokenizer = load_model(distil)\n",
    "bert_model.summary()"
   ]
  },
  {
   "cell_type": "markdown",
   "metadata": {
    "id": "xHnz-irHOE9E"
   },
   "source": [
    "## Prepare the dataset "
   ]
  },
  {
   "cell_type": "code",
   "execution_count": null,
   "metadata": {
    "id": "KKwI-RIXnWWd"
   },
   "outputs": [],
   "source": [
    "def tokenize_sample(sample):\n",
    "    return tokenizer(dataset2text(sample), truncation=True, max_length=review_len)\n",
    "\n",
    "def distributed_tokenize_dataset(dataset):\n",
    "    ds = list(dataset)\n",
    "    with multiprocessing.Pool(multiprocessing.cpu_count()) as pool:\n",
    "        tokenized_ds = list(tqdm(\n",
    "            pool.imap(tokenize_sample, ds),\n",
    "            total=len(ds)\n",
    "        ))\n",
    "    return tokenized_ds\n",
    "\n",
    "tokenized_x_train = distributed_tokenize_dataset(x_train)\n",
    "tokenized_x_test = distributed_tokenize_dataset(x_test)"
   ]
  },
  {
   "cell_type": "code",
   "execution_count": null,
   "metadata": {
    "id": "TivZYh8vnZlS"
   },
   "outputs": [],
   "source": [
    "data_collator = DataCollatorWithPadding(tokenizer, return_tensors=\"tf\")"
   ]
  },
  {
   "cell_type": "code",
   "execution_count": null,
   "metadata": {
    "id": "7Up0APYtwFm7"
   },
   "outputs": [],
   "source": [
    "data_collator(tokenized_x_train)"
   ]
  },
  {
   "cell_type": "code",
   "execution_count": null,
   "metadata": {
    "id": "U6Lhjfh6maIF"
   },
   "outputs": [],
   "source": [
    "def make_dataset(x, y):\n",
    "    collated = data_collator(x)\n",
    "    dataset = tf.data.Dataset.from_tensor_slices(\n",
    "        (collated['input_ids'], collated['attention_mask'], y)\n",
    "    )\n",
    "    transformed_dataset = (\n",
    "        dataset\n",
    "        .map(\n",
    "            lambda x, y, z: ((x, y), z)\n",
    "        )\n",
    "        .shuffle(25000)\n",
    "        .batch(batch_size)\n",
    "    )\n",
    "    return transformed_dataset\n",
    "\n",
    "train_ds = make_dataset(tokenized_x_train, y_train)\n",
    "test_ds = make_dataset(tokenized_x_test, y_test)\n",
    "\n",
    "for x, y in train_ds:\n",
    "    print(x)\n",
    "    break"
   ]
  },
  {
   "cell_type": "markdown",
   "metadata": {
    "id": "BQMn-htqOE9O"
   },
   "source": [
    "## Add a new head to the model"
   ]
  },
  {
   "cell_type": "code",
   "execution_count": null,
   "metadata": {
    "id": "KUaZbGYwOE9O"
   },
   "outputs": [],
   "source": [
    "class ClassificationModel(keras.Model):\n",
    "\n",
    "    def __init__(self, bert_model):\n",
    "        super(ClassificationModel, self).__init__()\n",
    "        self.bert_model = bert_model\n",
    "        self.pre_classifier = Dense(768, activation='relu')\n",
    "        self.dropout = Dropout(0.1)\n",
    "        self.classifier = Dense(2)\n",
    "\n",
    "    def call(self, x):\n",
    "        x = self.bert_model(x)\n",
    "        x = x.last_hidden_state\n",
    "        x = x[:, 0] # get the output of the classification token\n",
    "        x = self.pre_classifier(x)\n",
    "        x = self.dropout(x)\n",
    "        x = self.classifier(x)\n",
    "        return x"
   ]
  },
  {
   "cell_type": "code",
   "execution_count": null,
   "metadata": {
    "id": "2dTGFu9MOE9Q"
   },
   "outputs": [],
   "source": [
    "model = ClassificationModel(bert_model)\n",
    "x = next(iter(train_ds))[0]\n",
    "model(x)\n",
    "model.summary()"
   ]
  },
  {
   "cell_type": "markdown",
   "metadata": {
    "id": "r3IUL7wvOE9S"
   },
   "source": [
    "## Train! "
   ]
  },
  {
   "cell_type": "code",
   "execution_count": null,
   "metadata": {
    "id": "4jDAzxxwXLT1"
   },
   "outputs": [],
   "source": [
    "model.compile(\n",
    "    optimizer=Adam(1e-05),\n",
    "    loss=SparseCategoricalCrossentropy(from_logits=True),\n",
    "    metrics=[SparseCategoricalAccuracy('accuracy')]\n",
    ")"
   ]
  },
  {
   "cell_type": "code",
   "execution_count": null,
   "metadata": {
    "id": "KtmfFjL02Ano"
   },
   "outputs": [],
   "source": [
    "history = model.fit(\n",
    "    train_ds,\n",
    "    epochs=epochs,\n",
    "    verbose=fit_verbosity\n",
    ")"
   ]
  },
  {
   "cell_type": "markdown",
   "metadata": {
    "id": "Pb1ruObAOE9V"
   },
   "source": [
    "## Evaluation "
   ]
  },
  {
   "cell_type": "code",
   "execution_count": null,
   "metadata": {
    "id": "bvI18GGUOE9W"
   },
   "outputs": [],
   "source": [
    "_, score = model.evaluate(test_ds)\n",
    "colors = sns.color_palette('pastel')[2:]\n",
    "accuracy_score = [score, 1 - score]\n",
    "plt.pie(\n",
    "    accuracy_score,\n",
    "    labels=[\"Accurate\", \"Mistaken\"],\n",
    "    colors=colors,\n",
    "    autopct=lambda val: f\"{val:.2f}%\",\n",
    "    explode=(0.0, 0.1)\n",
    ")\n",
    "plt.show()"
   ]
  },
  {
   "cell_type": "code",
   "execution_count": null,
   "metadata": {
    "id": "dh0LDNq8OE9X"
   },
   "outputs": [],
   "source": []
  }
 ],
 "metadata": {
  "accelerator": "GPU",
  "colab": {
   "collapsed_sections": [],
   "name": "distilbert_colab.ipynb",
   "provenance": []
  },
  "kernelspec": {
   "display_name": "Python 3.9.2 ('fidle-env')",
   "language": "python",
   "name": "python3"
  },
  "language_info": {
   "codemirror_mode": {
    "name": "ipython",
    "version": 3
   },
   "file_extension": ".py",
   "mimetype": "text/x-python",
   "name": "python",
   "nbconvert_exporter": "python",
   "pygments_lexer": "ipython3",
   "version": "3.9.2"
  },
  "vscode": {
   "interpreter": {
    "hash": "b3929042cc22c1274d74e3e946c52b845b57cb6d84f2d591ffe0519b38e4896d"
   }
  }
 },
 "nbformat": 4,
 "nbformat_minor": 4
}
