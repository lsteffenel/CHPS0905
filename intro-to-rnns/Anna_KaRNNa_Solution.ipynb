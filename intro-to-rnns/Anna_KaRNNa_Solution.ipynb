{
  "cells": [
    {
      "cell_type": "markdown",
      "metadata": {
        "id": "K14jI_KhYRj8"
      },
      "source": [
        "# Anna KaRNNa\n",
        "\n",
        "In this notebook, I'll build a character-wise RNN trained on Anna Karenina, one of my all-time favorite books. It'll be able to generate new text based on the text from the book.\n",
        "\n",
        "This network is based off of Andrej Karpathy's [post on RNNs](http://karpathy.github.io/2015/05/21/rnn-effectiveness/) and [implementation in Torch](https://github.com/karpathy/char-rnn). Also, some information [here at r2rt](http://r2rt.com/recurrent-neural-networks-in-tensorflow-ii.html) and from [Sherjil Ozair](https://github.com/sherjilozair/char-rnn-tensorflow) on GitHub. Below is the general architecture of the character-wise RNN.\n",
        "\n",
        "<img src=\"https://github.com/udacity/deep-learning/blob/master/intro-to-rnns/assets/charseq.jpeg?raw=1\" width=\"500\">"
      ]
    },
    {
      "cell_type": "code",
      "execution_count": 1,
      "metadata": {
        "id": "HUJ1VEKzYRj-",
        "outputId": "ba98c5c8-f04e-42d8-8905-eacf9b3096e1",
        "colab": {
          "base_uri": "https://localhost:8080/"
        }
      },
      "outputs": [
        {
          "output_type": "stream",
          "name": "stderr",
          "text": [
            "WARNING:tensorflow:From /usr/local/lib/python3.7/dist-packages/tensorflow/python/compat/v2_compat.py:107: disable_resource_variables (from tensorflow.python.ops.variable_scope) is deprecated and will be removed in a future version.\n",
            "Instructions for updating:\n",
            "non-resource variables are not supported in the long term\n"
          ]
        }
      ],
      "source": [
        "import time\n",
        "from collections import namedtuple\n",
        "\n",
        "import numpy as np\n",
        "import tensorflow.compat.v1 as tf\n",
        "tf.disable_v2_behavior()"
      ]
    },
    {
      "cell_type": "markdown",
      "metadata": {
        "id": "NGxfYovzYRj_"
      },
      "source": [
        "First we'll load the text file and convert it into integers for our network to use. Here I'm creating a couple dictionaries to convert the characters to and from integers. Encoding the characters as integers makes it easier to use as input in the network."
      ]
    },
    {
      "cell_type": "code",
      "execution_count": 3,
      "metadata": {
        "id": "J3R03lpAYRj_"
      },
      "outputs": [],
      "source": [
        "with open('anna.txt', 'r') as f:\n",
        "    text=f.read()\n",
        "vocab = sorted(set(text))\n",
        "vocab_to_int = {c: i for i, c in enumerate(vocab)}\n",
        "int_to_vocab = dict(enumerate(vocab))\n",
        "encoded = np.array([vocab_to_int[c] for c in text], dtype=np.int32)"
      ]
    },
    {
      "cell_type": "markdown",
      "metadata": {
        "id": "sgf4rAziYRkA"
      },
      "source": [
        "Let's check out the first 100 characters, make sure everything is peachy. According to the [American Book Review](http://americanbookreview.org/100bestlines.asp), this is the 6th best first line of a book ever."
      ]
    },
    {
      "cell_type": "code",
      "execution_count": 4,
      "metadata": {
        "id": "LiazBHP6YRkA",
        "outputId": "dcd4d7f2-6ef6-40ba-8572-49cfe7c81a60",
        "colab": {
          "base_uri": "https://localhost:8080/",
          "height": 53
        }
      },
      "outputs": [
        {
          "output_type": "execute_result",
          "data": {
            "text/plain": [
              "'Chapter 1\\n\\n\\nHappy families are all alike; every unhappy family is unhappy in its own\\nway.\\n\\nEverythin'"
            ],
            "application/vnd.google.colaboratory.intrinsic+json": {
              "type": "string"
            }
          },
          "metadata": {},
          "execution_count": 4
        }
      ],
      "source": [
        "text[:100]"
      ]
    },
    {
      "cell_type": "markdown",
      "metadata": {
        "id": "ZSxgQ7wiYRkA"
      },
      "source": [
        "And we can see the characters encoded as integers."
      ]
    },
    {
      "cell_type": "code",
      "execution_count": 5,
      "metadata": {
        "id": "VjWJdJIcYRkB",
        "outputId": "71ef17db-fdf2-49f7-fc1e-e741e3a20167",
        "colab": {
          "base_uri": "https://localhost:8080/"
        }
      },
      "outputs": [
        {
          "output_type": "execute_result",
          "data": {
            "text/plain": [
              "array([31, 64, 57, 72, 76, 61, 74,  1, 16,  0,  0,  0, 36, 57, 72, 72, 81,\n",
              "        1, 62, 57, 69, 65, 68, 65, 61, 75,  1, 57, 74, 61,  1, 57, 68, 68,\n",
              "        1, 57, 68, 65, 67, 61, 26,  1, 61, 78, 61, 74, 81,  1, 77, 70, 64,\n",
              "       57, 72, 72, 81,  1, 62, 57, 69, 65, 68, 81,  1, 65, 75,  1, 77, 70,\n",
              "       64, 57, 72, 72, 81,  1, 65, 70,  1, 65, 76, 75,  1, 71, 79, 70,  0,\n",
              "       79, 57, 81, 13,  0,  0, 33, 78, 61, 74, 81, 76, 64, 65, 70],\n",
              "      dtype=int32)"
            ]
          },
          "metadata": {},
          "execution_count": 5
        }
      ],
      "source": [
        "encoded[:100]"
      ]
    },
    {
      "cell_type": "markdown",
      "metadata": {
        "id": "hJFqKOiBYRkB"
      },
      "source": [
        "Since the network is working with individual characters, it's similar to a classification problem in which we are trying to predict the next character from the previous text.  Here's how many 'classes' our network has to pick from."
      ]
    },
    {
      "cell_type": "code",
      "execution_count": 6,
      "metadata": {
        "id": "igbD3eLOYRkB",
        "outputId": "ee766114-83ef-41ca-b8f1-4777c04e9057",
        "colab": {
          "base_uri": "https://localhost:8080/"
        }
      },
      "outputs": [
        {
          "output_type": "execute_result",
          "data": {
            "text/plain": [
              "83"
            ]
          },
          "metadata": {},
          "execution_count": 6
        }
      ],
      "source": [
        "len(vocab)"
      ]
    },
    {
      "cell_type": "markdown",
      "metadata": {
        "id": "OhKIsDI8YRkC"
      },
      "source": [
        "## Making training mini-batches\n",
        "\n",
        "Here is where we'll make our mini-batches for training. Remember that we want our batches to be multiple sequences of some desired number of sequence steps. Considering a simple example, our batches would look like this:\n",
        "\n",
        "<img src=\"https://github.com/udacity/deep-learning/blob/master/intro-to-rnns/assets/sequence_batching@1x.png?raw=1\" width=500px>\n",
        "\n",
        "\n",
        "<br>\n",
        "\n",
        "We start with our text encoded as integers in one long array in `encoded`. Let's create a function that will give us an iterator for our batches. I like using [generator functions](https://jeffknupp.com/blog/2013/04/07/improve-your-python-yield-and-generators-explained/) to do this. Then we can pass `encoded` into this function and get our batch generator.\n",
        "\n",
        "The first thing we need to do is discard some of the text so we only have completely full batches. Each batch contains $N \\times M$ characters, where $N$ is the batch size (the number of sequences) and $M$ is the number of steps. Then, to get the total number of batches, $K$, we can make from the array `arr`, you divide the length of `arr` by the number of characters per batch. Once you know the number of batches, you can get the total number of characters to keep from `arr`, $N * M * K$.\n",
        "\n",
        "After that, we need to split `arr` into $N$ sequences. You can do this using `arr.reshape(size)` where `size` is a tuple containing the dimensions sizes of the reshaped array. We know we want $N$ sequences (`batch_size` below), let's make that the size of the first dimension. For the second dimension, you can use `-1` as a placeholder in the size, it'll fill up the array with the appropriate data for you. After this, you should have an array that is $N \\times (M * K)$.\n",
        "\n",
        "Now that we have this array, we can iterate through it to get our batches. The idea is each batch is a $N \\times M$ window on the $N \\times (M * K)$ array. For each subsequent batch, the window moves over by `n_steps`. We also want to create both the input and target arrays. Remember that the targets are the inputs shifted over one character. \n",
        "\n",
        "The way I like to do this window is use `range` to take steps of size `n_steps` from $0$ to `arr.shape[1]`, the total number of steps in each sequence. That way, the integers you get from `range` always point to the start of a batch, and each window is `n_steps` wide."
      ]
    },
    {
      "cell_type": "code",
      "execution_count": 7,
      "metadata": {
        "id": "J_xYpPOIYRkC"
      },
      "outputs": [],
      "source": [
        "def get_batches(arr, batch_size, n_steps):\n",
        "    '''Create a generator that returns batches of size\n",
        "       batch_size x n_steps from arr.\n",
        "       \n",
        "       Arguments\n",
        "       ---------\n",
        "       arr: Array you want to make batches from\n",
        "       batch_size: Batch size, the number of sequences per batch\n",
        "       n_steps: Number of sequence steps per batch\n",
        "    '''\n",
        "    # Get the number of characters per batch and number of batches we can make\n",
        "    chars_per_batch = batch_size * n_steps\n",
        "    n_batches = len(arr)//chars_per_batch\n",
        "    \n",
        "    # Keep only enough characters to make full batches\n",
        "    arr = arr[:n_batches * chars_per_batch]\n",
        "    \n",
        "    # Reshape into batch_size rows\n",
        "    arr = arr.reshape((batch_size, -1))\n",
        "    \n",
        "    for n in range(0, arr.shape[1], n_steps):\n",
        "        # The features\n",
        "        x = arr[:, n:n+n_steps]\n",
        "        # The targets, shifted by one\n",
        "        y_temp = arr[:, n+1:n+n_steps+1]\n",
        "        \n",
        "        # For the very last batch, y will be one character short at the end of \n",
        "        # the sequences which breaks things. To get around this, I'll make an \n",
        "        # array of the appropriate size first, of all zeros, then add the targets.\n",
        "        # This will introduce a small artifact in the last batch, but it won't matter.\n",
        "        y = np.zeros(x.shape, dtype=x.dtype)\n",
        "        y[:,:y_temp.shape[1]] = y_temp\n",
        "        \n",
        "        yield x, y"
      ]
    },
    {
      "cell_type": "markdown",
      "metadata": {
        "id": "kRnaDCzjYRkD"
      },
      "source": [
        "Now I'll make my data sets and we can check out what's going on here. Here I'm going to use a batch size of 10 and 50 sequence steps."
      ]
    },
    {
      "cell_type": "code",
      "execution_count": 8,
      "metadata": {
        "id": "cuyH4aJnYRkD"
      },
      "outputs": [],
      "source": [
        "batches = get_batches(encoded, 10, 50)\n",
        "x, y = next(batches)"
      ]
    },
    {
      "cell_type": "code",
      "execution_count": 9,
      "metadata": {
        "id": "9H9kep-GYRkD",
        "outputId": "a05ab0b2-02a6-475c-8a77-00580aa36a06",
        "colab": {
          "base_uri": "https://localhost:8080/"
        }
      },
      "outputs": [
        {
          "output_type": "stream",
          "name": "stdout",
          "text": [
            "x\n",
            " [[31 64 57 72 76 61 74  1 16  0]\n",
            " [ 1 57 69  1 70 71 76  1 63 71]\n",
            " [78 65 70 13  0  0  3 53 61 75]\n",
            " [70  1 60 77 74 65 70 63  1 64]\n",
            " [ 1 65 76  1 65 75 11  1 75 65]\n",
            " [ 1 37 76  1 79 57 75  0 71 70]\n",
            " [64 61 70  1 59 71 69 61  1 62]\n",
            " [26  1 58 77 76  1 70 71 79  1]\n",
            " [76  1 65 75 70  7 76 13  1 48]\n",
            " [ 1 75 57 65 60  1 76 71  1 64]]\n",
            "\n",
            "y\n",
            " [[64 57 72 76 61 74  1 16  0  0]\n",
            " [57 69  1 70 71 76  1 63 71 65]\n",
            " [65 70 13  0  0  3 53 61 75 11]\n",
            " [ 1 60 77 74 65 70 63  1 64 65]\n",
            " [65 76  1 65 75 11  1 75 65 74]\n",
            " [37 76  1 79 57 75  0 71 70 68]\n",
            " [61 70  1 59 71 69 61  1 62 71]\n",
            " [ 1 58 77 76  1 70 71 79  1 75]\n",
            " [ 1 65 75 70  7 76 13  1 48 64]\n",
            " [75 57 65 60  1 76 71  1 64 61]]\n"
          ]
        }
      ],
      "source": [
        "print('x\\n', x[:10, :10])\n",
        "print('\\ny\\n', y[:10, :10])"
      ]
    },
    {
      "cell_type": "markdown",
      "metadata": {
        "id": "i-cH8JDPYRkD"
      },
      "source": [
        "If you implemented `get_batches` correctly, the above output should look something like \n",
        "```\n",
        "x\n",
        " [[55 63 69 22  6 76 45  5 16 35]\n",
        " [ 5 69  1  5 12 52  6  5 56 52]\n",
        " [48 29 12 61 35 35  8 64 76 78]\n",
        " [12  5 24 39 45 29 12 56  5 63]\n",
        " [ 5 29  6  5 29 78 28  5 78 29]\n",
        " [ 5 13  6  5 36 69 78 35 52 12]\n",
        " [63 76 12  5 18 52  1 76  5 58]\n",
        " [34  5 73 39  6  5 12 52 36  5]\n",
        " [ 6  5 29 78 12 79  6 61  5 59]\n",
        " [ 5 78 69 29 24  5  6 52  5 63]]\n",
        "\n",
        "y\n",
        " [[63 69 22  6 76 45  5 16 35 35]\n",
        " [69  1  5 12 52  6  5 56 52 29]\n",
        " [29 12 61 35 35  8 64 76 78 28]\n",
        " [ 5 24 39 45 29 12 56  5 63 29]\n",
        " [29  6  5 29 78 28  5 78 29 45]\n",
        " [13  6  5 36 69 78 35 52 12 43]\n",
        " [76 12  5 18 52  1 76  5 58 52]\n",
        " [ 5 73 39  6  5 12 52 36  5 78]\n",
        " [ 5 29 78 12 79  6 61  5 59 63]\n",
        " [78 69 29 24  5  6 52  5 63 76]]\n",
        " ```\n",
        " although the exact numbers will be different. Check to make sure the data is shifted over one step for `y`."
      ]
    },
    {
      "cell_type": "markdown",
      "metadata": {
        "id": "aoYIbfydYRkD"
      },
      "source": [
        "## Building the model\n",
        "\n",
        "Below is where you'll build the network. We'll break it up into parts so it's easier to reason about each bit. Then we can connect them up into the whole network.\n",
        "\n",
        "<img src=\"https://github.com/udacity/deep-learning/blob/master/intro-to-rnns/assets/charRNN.png?raw=1\" width=500px>\n",
        "\n",
        "\n",
        "### Inputs\n",
        "\n",
        "First off we'll create our input placeholders. As usual we need placeholders for the training data and the targets. We'll also create a placeholder for dropout layers called `keep_prob`."
      ]
    },
    {
      "cell_type": "code",
      "execution_count": 10,
      "metadata": {
        "id": "51G1RAv4YRkE"
      },
      "outputs": [],
      "source": [
        "def build_inputs(batch_size, num_steps):\n",
        "    ''' Define placeholders for inputs, targets, and dropout \n",
        "    \n",
        "        Arguments\n",
        "        ---------\n",
        "        batch_size: Batch size, number of sequences per batch\n",
        "        num_steps: Number of sequence steps in a batch\n",
        "        \n",
        "    '''\n",
        "    # Declare placeholders we'll feed into the graph\n",
        "    inputs = tf.placeholder(tf.int32, [batch_size, num_steps], name='inputs')\n",
        "    targets = tf.placeholder(tf.int32, [batch_size, num_steps], name='targets')\n",
        "    \n",
        "    # Keep probability placeholder for drop out layers\n",
        "    keep_prob = tf.placeholder(tf.float32, name='keep_prob')\n",
        "    \n",
        "    return inputs, targets, keep_prob"
      ]
    },
    {
      "cell_type": "markdown",
      "metadata": {
        "id": "AZn_MdVZYRkE"
      },
      "source": [
        "### LSTM Cell\n",
        "\n",
        "Here we will create the LSTM cell we'll use in the hidden layer. We'll use this cell as a building block for the RNN. So we aren't actually defining the RNN here, just the type of cell we'll use in the hidden layer.\n",
        "\n",
        "We first create a basic LSTM cell with\n",
        "\n",
        "```python\n",
        "lstm = tf.contrib.rnn.BasicLSTMCell(num_units)\n",
        "```\n",
        "\n",
        "where `num_units` is the number of units in the hidden layers in the cell. Then we can add dropout by wrapping it with \n",
        "\n",
        "```python\n",
        "tf.contrib.rnn.DropoutWrapper(lstm, output_keep_prob=keep_prob)\n",
        "```\n",
        "You pass in a cell and it will automatically add dropout to the inputs or outputs. Finally, we can stack up the LSTM cells into layers with [`tf.contrib.rnn.MultiRNNCell`](https://www.tensorflow.org/versions/r1.0/api_docs/python/tf/contrib/rnn/MultiRNNCell). With this, you pass in a list of cells and it will send the output of one cell into the next cell. Previously with TensorFlow 1.0, you could do this\n",
        "\n",
        "```python\n",
        "tf.contrib.rnn.MultiRNNCell([cell]*num_layers)\n",
        "```\n",
        "\n",
        "This might look a little weird if you know Python well because this will create a list of the same `cell` object. However, TensorFlow 1.0 will create different weight matrices for all `cell` objects. But, starting with TensorFlow 1.1 you actually need to create new cell objects in the list. To get it to work in TensorFlow 1.1, it should look like\n",
        "\n",
        "```python\n",
        "def build_cell(num_units, keep_prob):\n",
        "    lstm = tf.contrib.rnn.BasicLSTMCell(num_units)\n",
        "    drop = tf.contrib.rnn.DropoutWrapper(lstm, output_keep_prob=keep_prob)\n",
        "    \n",
        "    return drop\n",
        "    \n",
        "tf.contrib.rnn.MultiRNNCell([build_cell(num_units, keep_prob) for _ in range(num_layers)])\n",
        "```\n",
        "\n",
        "Even though this is actually multiple LSTM cells stacked on each other, you can treat the multiple layers as one cell.\n",
        "\n",
        "We also need to create an initial cell state of all zeros. This can be done like so\n",
        "\n",
        "```python\n",
        "initial_state = cell.zero_state(batch_size, tf.float32)\n",
        "```\n",
        "\n",
        "Below, we implement the `build_lstm` function to create these LSTM cells and the initial state."
      ]
    },
    {
      "cell_type": "code",
      "execution_count": 35,
      "metadata": {
        "id": "F08WkoFCYRkE"
      },
      "outputs": [],
      "source": [
        "def build_lstm(lstm_size, num_layers, batch_size, keep_prob):\n",
        "    ''' Build LSTM cell.\n",
        "    \n",
        "        Arguments\n",
        "        ---------\n",
        "        keep_prob: Scalar tensor (tf.placeholder) for the dropout keep probability\n",
        "        lstm_size: Size of the hidden layers in the LSTM cells\n",
        "        num_layers: Number of LSTM layers\n",
        "        batch_size: Batch size\n",
        "\n",
        "    '''\n",
        "    ### Build the LSTM Cell\n",
        "    \n",
        "    def build_cell(lstm_size, keep_prob):\n",
        "        # Use a basic LSTM cell\n",
        "        #lstm = tf.contrib.rnn.BasicLSTMCell(lstm_size)\n",
        "        lstm = tf.compat.v1.nn.rnn_cell.BasicRNNCell(lstm_size)\n",
        "        \n",
        "        # Add dropout to the cell\n",
        "        drop = tf.compat.v1.nn.rnn_cell.DropoutWrapper(lstm, output_keep_prob=keep_prob)\n",
        "        return drop\n",
        "    \n",
        "    \n",
        "    # Stack up multiple LSTM layers, for deep learning\n",
        "    cell = tf.compat.v1.nn.rnn_cell.MultiRNNCell([build_cell(lstm_size, keep_prob) for _ in range(num_layers)])\n",
        "    initial_state = cell.zero_state(batch_size, tf.float32)\n",
        "    \n",
        "    return cell, initial_state"
      ]
    },
    {
      "cell_type": "markdown",
      "metadata": {
        "id": "OSbJJFLVYRkE"
      },
      "source": [
        "### RNN Output\n",
        "\n",
        "Here we'll create the output layer. We need to connect the output of the RNN cells to a full connected layer with a softmax output. The softmax output gives us a probability distribution we can use to predict the next character.\n",
        "\n",
        "If our input has batch size $N$, number of steps $M$, and the hidden layer has $L$ hidden units, then the output is a 3D tensor with size $N \\times M \\times L$. The output of each LSTM cell has size $L$, we have $M$ of them, one for each sequence step, and we have $N$ sequences. So the total size is $N \\times M \\times L$.\n",
        "\n",
        "We are using the same fully connected layer, the same weights, for each of the outputs. Then, to make things easier, we should reshape the outputs into a 2D tensor with shape $(M * N) \\times L$. That is, one row for each sequence and step, where the values of each row are the output from the LSTM cells.\n",
        "\n",
        "One we have the outputs reshaped, we can do the matrix multiplication with the weights. We need to wrap the weight and bias variables in a variable scope with `tf.variable_scope(scope_name)` because there are weights being created in the LSTM cells. TensorFlow will throw an error if the weights created here have the same names as the weights created in the LSTM cells, which they will be default. To avoid this, we wrap the variables in a variable scope so we can give them unique names."
      ]
    },
    {
      "cell_type": "code",
      "execution_count": 19,
      "metadata": {
        "id": "XcEmUl9FYRkF"
      },
      "outputs": [],
      "source": [
        "def build_output(lstm_output, in_size, out_size):\n",
        "    ''' Build a softmax layer, return the softmax output and logits.\n",
        "    \n",
        "        Arguments\n",
        "        ---------\n",
        "        \n",
        "        x: Input tensor\n",
        "        in_size: Size of the input tensor, for example, size of the LSTM cells\n",
        "        out_size: Size of this softmax layer\n",
        "    \n",
        "    '''\n",
        "\n",
        "    # Reshape output so it's a bunch of rows, one row for each step for each sequence.\n",
        "    # That is, the shape should be batch_size*num_steps rows by lstm_size columns\n",
        "    seq_output = tf.concat(lstm_output, axis=1)\n",
        "    x = tf.reshape(seq_output, [-1, in_size])\n",
        "    \n",
        "    # Connect the RNN outputs to a softmax layer\n",
        "    with tf.variable_scope('softmax'):\n",
        "        softmax_w = tf.Variable(tf.truncated_normal((in_size, out_size), stddev=0.1))\n",
        "        softmax_b = tf.Variable(tf.zeros(out_size))\n",
        "    \n",
        "    # Since output is a bunch of rows of RNN cell outputs, logits will be a bunch\n",
        "    # of rows of logit outputs, one for each step and sequence\n",
        "    logits = tf.matmul(x, softmax_w) + softmax_b\n",
        "    \n",
        "    # Use softmax to get the probabilities for predicted characters\n",
        "    out = tf.nn.softmax(logits, name='predictions')\n",
        "    \n",
        "    return out, logits"
      ]
    },
    {
      "cell_type": "markdown",
      "metadata": {
        "id": "9EvMmYpkYRkF"
      },
      "source": [
        "### Training loss\n",
        "\n",
        "Next up is the training loss. We get the logits and targets and calculate the softmax cross-entropy loss. First we need to one-hot encode the targets, we're getting them as encoded characters. Then, reshape the one-hot targets so it's a 2D tensor with size $(M*N) \\times C$ where $C$ is the number of classes/characters we have. Remember that we reshaped the LSTM outputs and ran them through a fully connected layer with $C$ units. So our logits will also have size $(M*N) \\times C$.\n",
        "\n",
        "Then we run the logits and targets through `tf.nn.softmax_cross_entropy_with_logits` and find the mean to get the loss."
      ]
    },
    {
      "cell_type": "code",
      "execution_count": 20,
      "metadata": {
        "id": "CG9oJt6TYRkF"
      },
      "outputs": [],
      "source": [
        "def build_loss(logits, targets, lstm_size, num_classes):\n",
        "    ''' Calculate the loss from the logits and the targets.\n",
        "    \n",
        "        Arguments\n",
        "        ---------\n",
        "        logits: Logits from final fully connected layer\n",
        "        targets: Targets for supervised learning\n",
        "        lstm_size: Number of LSTM hidden units\n",
        "        num_classes: Number of classes in targets\n",
        "        \n",
        "    '''\n",
        "    \n",
        "    # One-hot encode targets and reshape to match logits, one row per batch_size per step\n",
        "    y_one_hot = tf.one_hot(targets, num_classes)\n",
        "    y_reshaped = tf.reshape(y_one_hot, logits.get_shape())\n",
        "    \n",
        "    # Softmax cross entropy loss\n",
        "    loss = tf.nn.softmax_cross_entropy_with_logits(logits=logits, labels=y_reshaped)\n",
        "    loss = tf.reduce_mean(loss)\n",
        "    return loss"
      ]
    },
    {
      "cell_type": "markdown",
      "metadata": {
        "id": "OscuUgvvYRkF"
      },
      "source": [
        "### Optimizer\n",
        "\n",
        "Here we build the optimizer. Normal RNNs have have issues gradients exploding and disappearing. LSTMs fix the disappearance problem, but the gradients can still grow without bound. To fix this, we can clip the gradients above some threshold. That is, if a gradient is larger than that threshold, we set it to the threshold. This will ensure the gradients never grow overly large. Then we use an AdamOptimizer for the learning step."
      ]
    },
    {
      "cell_type": "code",
      "execution_count": 21,
      "metadata": {
        "id": "oNSZfIKnYRkF"
      },
      "outputs": [],
      "source": [
        "def build_optimizer(loss, learning_rate, grad_clip):\n",
        "    ''' Build optmizer for training, using gradient clipping.\n",
        "    \n",
        "        Arguments:\n",
        "        loss: Network loss\n",
        "        learning_rate: Learning rate for optimizer\n",
        "    \n",
        "    '''\n",
        "    \n",
        "    # Optimizer for training, using gradient clipping to control exploding gradients\n",
        "    tvars = tf.trainable_variables()\n",
        "    grads, _ = tf.clip_by_global_norm(tf.gradients(loss, tvars), grad_clip)\n",
        "    train_op = tf.train.AdamOptimizer(learning_rate)\n",
        "    optimizer = train_op.apply_gradients(zip(grads, tvars))\n",
        "    \n",
        "    return optimizer"
      ]
    },
    {
      "cell_type": "markdown",
      "metadata": {
        "id": "nms4EsvBYRkF"
      },
      "source": [
        "### Build the network\n",
        "\n",
        "Now we can put all the pieces together and build a class for the network. To actually run data through the LSTM cells, we will use [`tf.nn.dynamic_rnn`](https://www.tensorflow.org/versions/r1.0/api_docs/python/tf/nn/dynamic_rnn). This function will pass the hidden and cell states across LSTM cells appropriately for us. It returns the outputs for each LSTM cell at each step for each sequence in the mini-batch. It also gives us the final LSTM state. We want to save this state as `final_state` so we can pass it to the first LSTM cell in the the next mini-batch run. For `tf.nn.dynamic_rnn`, we pass in the cell and initial state we get from `build_lstm`, as well as our input sequences. Also, we need to one-hot encode the inputs before going into the RNN. "
      ]
    },
    {
      "cell_type": "code",
      "execution_count": 22,
      "metadata": {
        "id": "CgDmV_UNYRkF"
      },
      "outputs": [],
      "source": [
        "class CharRNN:\n",
        "    \n",
        "    def __init__(self, num_classes, batch_size=64, num_steps=50, \n",
        "                       lstm_size=128, num_layers=2, learning_rate=0.001, \n",
        "                       grad_clip=5, sampling=False):\n",
        "    \n",
        "        # When we're using this network for sampling later, we'll be passing in\n",
        "        # one character at a time, so providing an option for that\n",
        "        if sampling == True:\n",
        "            batch_size, num_steps = 1, 1\n",
        "        else:\n",
        "            batch_size, num_steps = batch_size, num_steps\n",
        "\n",
        "        tf.reset_default_graph()\n",
        "        \n",
        "        # Build the input placeholder tensors\n",
        "        self.inputs, self.targets, self.keep_prob = build_inputs(batch_size, num_steps)\n",
        "\n",
        "        # Build the LSTM cell\n",
        "        cell, self.initial_state = build_lstm(lstm_size, num_layers, batch_size, self.keep_prob)\n",
        "\n",
        "        ### Run the data through the RNN layers\n",
        "        # First, one-hot encode the input tokens\n",
        "        x_one_hot = tf.one_hot(self.inputs, num_classes)\n",
        "        \n",
        "        # Run each sequence step through the RNN and collect the outputs\n",
        "        outputs, state = tf.nn.dynamic_rnn(cell, x_one_hot, initial_state=self.initial_state)\n",
        "        self.final_state = state\n",
        "        \n",
        "        # Get softmax predictions and logits\n",
        "        self.prediction, self.logits = build_output(outputs, lstm_size, num_classes)\n",
        "        \n",
        "        # Loss and optimizer (with gradient clipping)\n",
        "        self.loss = build_loss(self.logits, self.targets, lstm_size, num_classes)\n",
        "        self.optimizer = build_optimizer(self.loss, learning_rate, grad_clip)"
      ]
    },
    {
      "cell_type": "markdown",
      "metadata": {
        "id": "a4ya-eDAYRkG"
      },
      "source": [
        "## Hyperparameters\n",
        "\n",
        "Here I'm defining the hyperparameters for the network. \n",
        "\n",
        "* `batch_size` - Number of sequences running through the network in one pass.\n",
        "* `num_steps` - Number of characters in the sequence the network is trained on. Larger is better typically, the network will learn more long range dependencies. But it takes longer to train. 100 is typically a good number here.\n",
        "* `lstm_size` - The number of units in the hidden layers.\n",
        "* `num_layers` - Number of hidden LSTM layers to use\n",
        "* `learning_rate` - Learning rate for training\n",
        "* `keep_prob` - The dropout keep probability when training. If you're network is overfitting, try decreasing this.\n",
        "\n",
        "Here's some good advice from Andrej Karpathy on training the network. I'm going to copy it in here for your benefit, but also link to [where it originally came from](https://github.com/karpathy/char-rnn#tips-and-tricks).\n",
        "\n",
        "> ## Tips and Tricks\n",
        "\n",
        ">### Monitoring Validation Loss vs. Training Loss\n",
        ">If you're somewhat new to Machine Learning or Neural Networks it can take a bit of expertise to get good models. The most important quantity to keep track of is the difference between your training loss (printed during training) and the validation loss (printed once in a while when the RNN is run on the validation data (by default every 1000 iterations)). In particular:\n",
        "\n",
        "> - If your training loss is much lower than validation loss then this means the network might be **overfitting**. Solutions to this are to decrease your network size, or to increase dropout. For example you could try dropout of 0.5 and so on.\n",
        "> - If your training/validation loss are about equal then your model is **underfitting**. Increase the size of your model (either number of layers or the raw number of neurons per layer)\n",
        "\n",
        "> ### Approximate number of parameters\n",
        "\n",
        "> The two most important parameters that control the model are `lstm_size` and `num_layers`. I would advise that you always use `num_layers` of either 2/3. The `lstm_size` can be adjusted based on how much data you have. The two important quantities to keep track of here are:\n",
        "\n",
        "> - The number of parameters in your model. This is printed when you start training.\n",
        "> - The size of your dataset. 1MB file is approximately 1 million characters.\n",
        "\n",
        ">These two should be about the same order of magnitude. It's a little tricky to tell. Here are some examples:\n",
        "\n",
        "> - I have a 100MB dataset and I'm using the default parameter settings (which currently print 150K parameters). My data size is significantly larger (100 mil >> 0.15 mil), so I expect to heavily underfit. I am thinking I can comfortably afford to make `lstm_size` larger.\n",
        "> - I have a 10MB dataset and running a 10 million parameter model. I'm slightly nervous and I'm carefully monitoring my validation loss. If it's larger than my training loss then I may want to try to increase dropout a bit and see if that helps the validation loss.\n",
        "\n",
        "> ### Best models strategy\n",
        "\n",
        ">The winning strategy to obtaining very good models (if you have the compute time) is to always err on making the network larger (as large as you're willing to wait for it to compute) and then try different dropout values (between 0,1). Whatever model has the best validation performance (the loss, written in the checkpoint filename, low is good) is the one you should use in the end.\n",
        "\n",
        ">It is very common in deep learning to run many different models with many different hyperparameter settings, and in the end take whatever checkpoint gave the best validation performance.\n",
        "\n",
        ">By the way, the size of your training and validation splits are also parameters. Make sure you have a decent amount of data in your validation set or otherwise the validation performance will be noisy and not very informative.\n"
      ]
    },
    {
      "cell_type": "code",
      "execution_count": 23,
      "metadata": {
        "id": "nORIQQWEYRkG"
      },
      "outputs": [],
      "source": [
        "batch_size = 100        # Sequences per batch\n",
        "num_steps = 100         # Number of sequence steps per batch\n",
        "lstm_size = 512         # Size of hidden layers in LSTMs\n",
        "num_layers = 2          # Number of LSTM layers\n",
        "learning_rate = 0.001   # Learning rate\n",
        "keep_prob = 0.5         # Dropout keep probability"
      ]
    },
    {
      "cell_type": "markdown",
      "metadata": {
        "id": "bZQDctUhYRkG"
      },
      "source": [
        "## Time for training\n",
        "\n",
        "This is typical training code, passing inputs and targets into the network, then running the optimizer. Here we also get back the final LSTM state for the mini-batch. Then, we pass that state back into the network so the next batch can continue the state from the previous batch. And every so often (set by `save_every_n`) I save a checkpoint.\n",
        "\n",
        "Here I'm saving checkpoints with the format\n",
        "\n",
        "`i{iteration number}_l{# hidden layer units}.ckpt`"
      ]
    },
    {
      "cell_type": "code",
      "execution_count": 36,
      "metadata": {
        "scrolled": true,
        "id": "2frMt-WAYRkG",
        "outputId": "992314eb-584e-4655-a587-2abb86aa6b53",
        "colab": {
          "base_uri": "https://localhost:8080/"
        }
      },
      "outputs": [
        {
          "output_type": "stream",
          "name": "stderr",
          "text": [
            "/usr/local/lib/python3.7/dist-packages/ipykernel_launcher.py:17: UserWarning: `tf.nn.rnn_cell.BasicRNNCell` is deprecated and will be removed in a future version. This class is equivalent as `tf.keras.layers.SimpleRNNCell`, and will be replaced by that in Tensorflow 2.0.\n",
            "WARNING:tensorflow:`tf.nn.rnn_cell.MultiRNNCell` is deprecated. This class is equivalent as `tf.keras.layers.StackedRNNCells`, and will be replaced by that in Tensorflow 2.0.\n",
            "WARNING:tensorflow:From <ipython-input-22-85de622c798a>:27: dynamic_rnn (from tensorflow.python.ops.rnn) is deprecated and will be removed in a future version.\n",
            "Instructions for updating:\n",
            "Please use `keras.layers.RNN(cell)`, which is equivalent to this API\n",
            "WARNING:tensorflow:From /usr/local/lib/python3.7/dist-packages/keras/layers/rnn/legacy_cells.py:429: calling Zeros.__init__ (from tensorflow.python.ops.init_ops) with dtype is deprecated and will be removed in a future version.\n",
            "Instructions for updating:\n",
            "Call initializer instance with the dtype argument instead of passing it to the constructor\n",
            "WARNING:tensorflow:From /usr/local/lib/python3.7/dist-packages/tensorflow/python/util/dispatch.py:1082: softmax_cross_entropy_with_logits (from tensorflow.python.ops.nn_ops) is deprecated and will be removed in a future version.\n",
            "Instructions for updating:\n",
            "\n",
            "Future major versions of TensorFlow will allow gradients to flow\n",
            "into the labels input on backprop by default.\n",
            "\n",
            "See `tf.nn.softmax_cross_entropy_with_logits_v2`.\n",
            "\n"
          ]
        },
        {
          "output_type": "stream",
          "name": "stdout",
          "text": [
            "Epoch: 1/20...  Training Step: 50...  Training loss: 2.6139...  0.0842 sec/batch\n",
            "Epoch: 1/20...  Training Step: 100...  Training loss: 2.3043...  0.0821 sec/batch\n",
            "Epoch: 1/20...  Training Step: 150...  Training loss: 2.2308...  0.0839 sec/batch\n",
            "Epoch: 2/20...  Training Step: 200...  Training loss: 2.1929...  0.0827 sec/batch\n",
            "Epoch: 2/20...  Training Step: 250...  Training loss: 2.2138...  0.0838 sec/batch\n",
            "Epoch: 2/20...  Training Step: 300...  Training loss: 2.1595...  0.0912 sec/batch\n",
            "Epoch: 2/20...  Training Step: 350...  Training loss: 2.1892...  0.0852 sec/batch\n",
            "Epoch: 3/20...  Training Step: 400...  Training loss: 2.1382...  0.0842 sec/batch\n",
            "Epoch: 3/20...  Training Step: 450...  Training loss: 2.1318...  0.0868 sec/batch\n",
            "Epoch: 3/20...  Training Step: 500...  Training loss: 2.0939...  0.0822 sec/batch\n",
            "Epoch: 3/20...  Training Step: 550...  Training loss: 2.1161...  0.0847 sec/batch\n",
            "Epoch: 4/20...  Training Step: 600...  Training loss: 2.0488...  0.0853 sec/batch\n",
            "Epoch: 4/20...  Training Step: 650...  Training loss: 2.0867...  0.0847 sec/batch\n",
            "Epoch: 4/20...  Training Step: 700...  Training loss: 2.0420...  0.0842 sec/batch\n",
            "Epoch: 4/20...  Training Step: 750...  Training loss: 2.0481...  0.0829 sec/batch\n",
            "Epoch: 5/20...  Training Step: 800...  Training loss: 2.0250...  0.0820 sec/batch\n",
            "Epoch: 5/20...  Training Step: 850...  Training loss: 1.9833...  0.0866 sec/batch\n",
            "Epoch: 5/20...  Training Step: 900...  Training loss: 2.0053...  0.0870 sec/batch\n",
            "Epoch: 5/20...  Training Step: 950...  Training loss: 1.9817...  0.0836 sec/batch\n",
            "Epoch: 6/20...  Training Step: 1000...  Training loss: 1.9617...  0.0815 sec/batch\n",
            "Epoch: 6/20...  Training Step: 1050...  Training loss: 1.9949...  0.0871 sec/batch\n",
            "Epoch: 6/20...  Training Step: 1100...  Training loss: 1.9429...  0.0979 sec/batch\n",
            "Epoch: 6/20...  Training Step: 1150...  Training loss: 1.9637...  0.0844 sec/batch\n",
            "Epoch: 7/20...  Training Step: 1200...  Training loss: 1.8900...  0.0869 sec/batch\n",
            "Epoch: 7/20...  Training Step: 1250...  Training loss: 1.9510...  0.0842 sec/batch\n",
            "Epoch: 7/20...  Training Step: 1300...  Training loss: 1.8761...  0.0842 sec/batch\n",
            "Epoch: 7/20...  Training Step: 1350...  Training loss: 1.8795...  0.0915 sec/batch\n",
            "Epoch: 8/20...  Training Step: 1400...  Training loss: 1.9057...  0.0854 sec/batch\n",
            "Epoch: 8/20...  Training Step: 1450...  Training loss: 1.8794...  0.0861 sec/batch\n",
            "Epoch: 8/20...  Training Step: 1500...  Training loss: 1.8227...  0.0820 sec/batch\n",
            "Epoch: 8/20...  Training Step: 1550...  Training loss: 1.8341...  0.0865 sec/batch\n",
            "Epoch: 9/20...  Training Step: 1600...  Training loss: 1.8005...  0.0835 sec/batch\n",
            "Epoch: 9/20...  Training Step: 1650...  Training loss: 1.8403...  0.0958 sec/batch\n",
            "Epoch: 9/20...  Training Step: 1700...  Training loss: 1.7606...  0.0845 sec/batch\n",
            "Epoch: 9/20...  Training Step: 1750...  Training loss: 1.7918...  0.0869 sec/batch\n",
            "Epoch: 10/20...  Training Step: 1800...  Training loss: 1.8227...  0.0861 sec/batch\n",
            "Epoch: 10/20...  Training Step: 1850...  Training loss: 1.7473...  0.0872 sec/batch\n",
            "Epoch: 10/20...  Training Step: 1900...  Training loss: 1.7605...  0.0874 sec/batch\n",
            "Epoch: 10/20...  Training Step: 1950...  Training loss: 1.8389...  0.0845 sec/batch\n",
            "Epoch: 11/20...  Training Step: 2000...  Training loss: 1.7603...  0.0936 sec/batch\n",
            "Epoch: 11/20...  Training Step: 2050...  Training loss: 1.7502...  0.0869 sec/batch\n",
            "Epoch: 11/20...  Training Step: 2100...  Training loss: 1.7203...  0.0814 sec/batch\n",
            "Epoch: 11/20...  Training Step: 2150...  Training loss: 1.7191...  0.0841 sec/batch\n",
            "Epoch: 12/20...  Training Step: 2200...  Training loss: 1.7437...  0.0921 sec/batch\n",
            "Epoch: 12/20...  Training Step: 2250...  Training loss: 1.7270...  0.0850 sec/batch\n",
            "Epoch: 12/20...  Training Step: 2300...  Training loss: 1.6741...  0.0875 sec/batch\n",
            "Epoch: 12/20...  Training Step: 2350...  Training loss: 1.6909...  0.0889 sec/batch\n",
            "Epoch: 13/20...  Training Step: 2400...  Training loss: 1.6916...  0.0942 sec/batch\n",
            "Epoch: 13/20...  Training Step: 2450...  Training loss: 1.6713...  0.0873 sec/batch\n",
            "Epoch: 13/20...  Training Step: 2500...  Training loss: 1.6903...  0.0868 sec/batch\n",
            "Epoch: 13/20...  Training Step: 2550...  Training loss: 1.7013...  0.0882 sec/batch\n",
            "Epoch: 14/20...  Training Step: 2600...  Training loss: 1.6291...  0.0843 sec/batch\n",
            "Epoch: 14/20...  Training Step: 2650...  Training loss: 1.7059...  0.0852 sec/batch\n",
            "Epoch: 14/20...  Training Step: 2700...  Training loss: 1.6169...  0.0881 sec/batch\n",
            "Epoch: 14/20...  Training Step: 2750...  Training loss: 1.6476...  0.0925 sec/batch\n",
            "Epoch: 15/20...  Training Step: 2800...  Training loss: 1.6725...  0.0840 sec/batch\n",
            "Epoch: 15/20...  Training Step: 2850...  Training loss: 1.6499...  0.0880 sec/batch\n",
            "Epoch: 15/20...  Training Step: 2900...  Training loss: 1.6452...  0.0864 sec/batch\n",
            "Epoch: 15/20...  Training Step: 2950...  Training loss: 1.6743...  0.0869 sec/batch\n",
            "Epoch: 16/20...  Training Step: 3000...  Training loss: 1.6534...  0.0817 sec/batch\n",
            "Epoch: 16/20...  Training Step: 3050...  Training loss: 1.6296...  0.0818 sec/batch\n",
            "Epoch: 16/20...  Training Step: 3100...  Training loss: 1.6161...  0.0872 sec/batch\n",
            "Epoch: 16/20...  Training Step: 3150...  Training loss: 1.5949...  0.0852 sec/batch\n",
            "Epoch: 17/20...  Training Step: 3200...  Training loss: 1.6046...  0.0859 sec/batch\n",
            "Epoch: 17/20...  Training Step: 3250...  Training loss: 1.6342...  0.0855 sec/batch\n",
            "Epoch: 17/20...  Training Step: 3300...  Training loss: 1.5822...  0.0870 sec/batch\n",
            "Epoch: 17/20...  Training Step: 3350...  Training loss: 1.6155...  0.0861 sec/batch\n",
            "Epoch: 18/20...  Training Step: 3400...  Training loss: 1.6225...  0.0891 sec/batch\n",
            "Epoch: 18/20...  Training Step: 3450...  Training loss: 1.6115...  0.0850 sec/batch\n",
            "Epoch: 18/20...  Training Step: 3500...  Training loss: 1.6053...  0.0924 sec/batch\n",
            "Epoch: 18/20...  Training Step: 3550...  Training loss: 1.6214...  0.0852 sec/batch\n",
            "Epoch: 19/20...  Training Step: 3600...  Training loss: 1.5870...  0.0856 sec/batch\n",
            "Epoch: 19/20...  Training Step: 3650...  Training loss: 1.5834...  0.0852 sec/batch\n",
            "Epoch: 19/20...  Training Step: 3700...  Training loss: 1.5951...  0.0872 sec/batch\n",
            "Epoch: 19/20...  Training Step: 3750...  Training loss: 1.5573...  0.0814 sec/batch\n",
            "Epoch: 20/20...  Training Step: 3800...  Training loss: 1.5420...  0.0883 sec/batch\n",
            "Epoch: 20/20...  Training Step: 3850...  Training loss: 1.5587...  0.0875 sec/batch\n",
            "Epoch: 20/20...  Training Step: 3900...  Training loss: 1.5910...  0.0829 sec/batch\n",
            "Epoch: 20/20...  Training Step: 3950...  Training loss: 1.5557...  0.0873 sec/batch\n"
          ]
        }
      ],
      "source": [
        "epochs = 20\n",
        "# Print losses every N interations\n",
        "print_every_n = 50\n",
        "\n",
        "# Save every N iterations\n",
        "save_every_n = 200\n",
        "\n",
        "model = CharRNN(len(vocab), batch_size=batch_size, num_steps=num_steps,\n",
        "                lstm_size=lstm_size, num_layers=num_layers, \n",
        "                learning_rate=learning_rate)\n",
        "\n",
        "saver = tf.train.Saver(max_to_keep=100)\n",
        "with tf.Session() as sess:\n",
        "    sess.run(tf.global_variables_initializer())\n",
        "    \n",
        "    # Use the line below to load a checkpoint and resume training\n",
        "    #saver.restore(sess, 'checkpoints/______.ckpt')\n",
        "    counter = 0\n",
        "    for e in range(epochs):\n",
        "        # Train network\n",
        "        new_state = sess.run(model.initial_state)\n",
        "        loss = 0\n",
        "        for x, y in get_batches(encoded, batch_size, num_steps):\n",
        "            counter += 1\n",
        "            start = time.time()\n",
        "            feed = {model.inputs: x,\n",
        "                    model.targets: y,\n",
        "                    model.keep_prob: keep_prob,\n",
        "                    model.initial_state: new_state}\n",
        "            batch_loss, new_state, _ = sess.run([model.loss, \n",
        "                                                 model.final_state, \n",
        "                                                 model.optimizer], \n",
        "                                                 feed_dict=feed)\n",
        "            if (counter % print_every_n == 0):\n",
        "                end = time.time()\n",
        "                print('Epoch: {}/{}... '.format(e+1, epochs),\n",
        "                      'Training Step: {}... '.format(counter),\n",
        "                      'Training loss: {:.4f}... '.format(batch_loss),\n",
        "                      '{:.4f} sec/batch'.format((end-start)))\n",
        "        \n",
        "            if (counter % save_every_n == 0):\n",
        "                saver.save(sess, \"checkpoints/i{}_l{}.ckpt\".format(counter, lstm_size))\n",
        "    \n",
        "    saver.save(sess, \"checkpoints/i{}_l{}.ckpt\".format(counter, lstm_size))"
      ]
    },
    {
      "cell_type": "markdown",
      "metadata": {
        "id": "pgw3VMSjYRkG"
      },
      "source": [
        "#### Saved checkpoints\n",
        "\n",
        "Read up on saving and loading checkpoints here: https://www.tensorflow.org/programmers_guide/variables"
      ]
    },
    {
      "cell_type": "code",
      "execution_count": 37,
      "metadata": {
        "id": "uDSR_MfNYRkG",
        "outputId": "4acdadc6-c9a0-4cd3-9a6b-cff6faf6d26b",
        "colab": {
          "base_uri": "https://localhost:8080/"
        }
      },
      "outputs": [
        {
          "output_type": "execute_result",
          "data": {
            "text/plain": [
              "model_checkpoint_path: \"checkpoints/i3960_l512.ckpt\"\n",
              "all_model_checkpoint_paths: \"checkpoints/i200_l512.ckpt\"\n",
              "all_model_checkpoint_paths: \"checkpoints/i400_l512.ckpt\"\n",
              "all_model_checkpoint_paths: \"checkpoints/i600_l512.ckpt\"\n",
              "all_model_checkpoint_paths: \"checkpoints/i800_l512.ckpt\"\n",
              "all_model_checkpoint_paths: \"checkpoints/i1000_l512.ckpt\"\n",
              "all_model_checkpoint_paths: \"checkpoints/i1200_l512.ckpt\"\n",
              "all_model_checkpoint_paths: \"checkpoints/i1400_l512.ckpt\"\n",
              "all_model_checkpoint_paths: \"checkpoints/i1600_l512.ckpt\"\n",
              "all_model_checkpoint_paths: \"checkpoints/i1800_l512.ckpt\"\n",
              "all_model_checkpoint_paths: \"checkpoints/i2000_l512.ckpt\"\n",
              "all_model_checkpoint_paths: \"checkpoints/i2200_l512.ckpt\"\n",
              "all_model_checkpoint_paths: \"checkpoints/i2400_l512.ckpt\"\n",
              "all_model_checkpoint_paths: \"checkpoints/i2600_l512.ckpt\"\n",
              "all_model_checkpoint_paths: \"checkpoints/i2800_l512.ckpt\"\n",
              "all_model_checkpoint_paths: \"checkpoints/i3000_l512.ckpt\"\n",
              "all_model_checkpoint_paths: \"checkpoints/i3200_l512.ckpt\"\n",
              "all_model_checkpoint_paths: \"checkpoints/i3400_l512.ckpt\"\n",
              "all_model_checkpoint_paths: \"checkpoints/i3600_l512.ckpt\"\n",
              "all_model_checkpoint_paths: \"checkpoints/i3800_l512.ckpt\"\n",
              "all_model_checkpoint_paths: \"checkpoints/i3960_l512.ckpt\""
            ]
          },
          "metadata": {},
          "execution_count": 37
        }
      ],
      "source": [
        "tf.train.get_checkpoint_state('checkpoints')"
      ]
    },
    {
      "cell_type": "markdown",
      "metadata": {
        "id": "ezE4hW82YRkG"
      },
      "source": [
        "## Sampling\n",
        "\n",
        "Now that the network is trained, we'll can use it to generate new text. The idea is that we pass in a character, then the network will predict the next character. We can use the new one, to predict the next one. And we keep doing this to generate all new text. I also included some functionality to prime the network with some text by passing in a string and building up a state from that.\n",
        "\n",
        "The network gives us predictions for each character. To reduce noise and make things a little less random, I'm going to only choose a new character from the top N most likely characters.\n",
        "\n"
      ]
    },
    {
      "cell_type": "code",
      "execution_count": 38,
      "metadata": {
        "id": "zM8VQjn6YRkG"
      },
      "outputs": [],
      "source": [
        "def pick_top_n(preds, vocab_size, top_n=5):\n",
        "    p = np.squeeze(preds)\n",
        "    p[np.argsort(p)[:-top_n]] = 0\n",
        "    p = p / np.sum(p)\n",
        "    c = np.random.choice(vocab_size, 1, p=p)[0]\n",
        "    return c"
      ]
    },
    {
      "cell_type": "code",
      "execution_count": 39,
      "metadata": {
        "id": "rhz7E6a6YRkH"
      },
      "outputs": [],
      "source": [
        "def sample(checkpoint, n_samples, lstm_size, vocab_size, prime=\"The \"):\n",
        "    samples = [c for c in prime]\n",
        "    model = CharRNN(len(vocab), lstm_size=lstm_size, sampling=True)\n",
        "    saver = tf.train.Saver()\n",
        "    with tf.Session() as sess:\n",
        "        saver.restore(sess, checkpoint)\n",
        "        new_state = sess.run(model.initial_state)\n",
        "        for c in prime:\n",
        "            x = np.zeros((1, 1))\n",
        "            x[0,0] = vocab_to_int[c]\n",
        "            feed = {model.inputs: x,\n",
        "                    model.keep_prob: 1.,\n",
        "                    model.initial_state: new_state}\n",
        "            preds, new_state = sess.run([model.prediction, model.final_state], \n",
        "                                         feed_dict=feed)\n",
        "\n",
        "        c = pick_top_n(preds, len(vocab))\n",
        "        samples.append(int_to_vocab[c])\n",
        "\n",
        "        for i in range(n_samples):\n",
        "            x[0,0] = c\n",
        "            feed = {model.inputs: x,\n",
        "                    model.keep_prob: 1.,\n",
        "                    model.initial_state: new_state}\n",
        "            preds, new_state = sess.run([model.prediction, model.final_state], \n",
        "                                         feed_dict=feed)\n",
        "\n",
        "            c = pick_top_n(preds, len(vocab))\n",
        "            samples.append(int_to_vocab[c])\n",
        "        \n",
        "    return ''.join(samples)"
      ]
    },
    {
      "cell_type": "markdown",
      "metadata": {
        "id": "78J1dScQYRkH"
      },
      "source": [
        "Here, pass in the path to a checkpoint and sample from the network."
      ]
    },
    {
      "cell_type": "code",
      "execution_count": 40,
      "metadata": {
        "id": "275wgxyfYRkH",
        "outputId": "131d5e8d-8f7f-405a-c55e-0d22366cd265",
        "colab": {
          "base_uri": "https://localhost:8080/",
          "height": 35
        }
      },
      "outputs": [
        {
          "output_type": "execute_result",
          "data": {
            "text/plain": [
              "'checkpoints/i3960_l512.ckpt'"
            ],
            "application/vnd.google.colaboratory.intrinsic+json": {
              "type": "string"
            }
          },
          "metadata": {},
          "execution_count": 40
        }
      ],
      "source": [
        "tf.train.latest_checkpoint('checkpoints')"
      ]
    },
    {
      "cell_type": "code",
      "execution_count": 41,
      "metadata": {
        "id": "inqpTyOUYRkH",
        "outputId": "ef24bc5c-3b9b-4a2f-dd52-875dc1288e55",
        "colab": {
          "base_uri": "https://localhost:8080/"
        }
      },
      "outputs": [
        {
          "output_type": "stream",
          "name": "stderr",
          "text": [
            "/usr/local/lib/python3.7/dist-packages/ipykernel_launcher.py:17: UserWarning: `tf.nn.rnn_cell.BasicRNNCell` is deprecated and will be removed in a future version. This class is equivalent as `tf.keras.layers.SimpleRNNCell`, and will be replaced by that in Tensorflow 2.0.\n",
            "WARNING:tensorflow:`tf.nn.rnn_cell.MultiRNNCell` is deprecated. This class is equivalent as `tf.keras.layers.StackedRNNCells`, and will be replaced by that in Tensorflow 2.0.\n"
          ]
        },
        {
          "output_type": "stream",
          "name": "stdout",
          "text": [
            "Far\n",
            "Gotenbecam of the mad hands.\n",
            "\n",
            "\"You do talk thene, she's a starma tarting to see her tusnare of the same thong womll shule now to\n",
            "the senden, and talk to her and callen and\n",
            "train to be allated it the\n",
            "secriage the begaching to anyand to tark not to the disharien to belooning him that sam this to him that him while the lote sone\n",
            "to this that his pars of the most said\n",
            "to him, betad at the cears of shooly and so tole the same fill husband the\n",
            "stant was told her. But he watted to see the coldealy, began so mind\n",
            "with uteer, he hould be at and say the some hers long wornded and proved of hows will and proved aland,\"s at his head in the stope,\" she soind.\" \n",
            "Atna he said.\n",
            "\n",
            "\"The poor of the poure what talked all, both the money in at the lateres, he said sid lifally selina lofe about to\n",
            "be in them. And there, a ditces, and to that she had been satd the plaint, the\n",
            "prince, and stouthing the lott from the farilite. \"You want\n",
            "a that\n",
            "how seemed to her this for the certain toot him, he\n",
            "dad me tid ievying, and at her son, but she dousding hin havo told her\n",
            "and canelund, than alougated on it it allating atott.\n",
            "\n",
            "\"What sa dishusting us his sach, as a pasting.\n",
            "\n",
            "\"You want to say whot a single of herself and should be ondered it, and\n",
            "and stracken\n",
            "all handed of shis instane and\n",
            "this feeting hor in her hishing, who had been at the\n",
            "conversation of his forth,\" said Dolly a dinner was a senger that she was anyed of the merning, and she had bree anything to shad a drewa in the somition and shild before, thought them as the lott\n",
            "tree his books and the mother, and to do with her aro men at the sen in his fither of his wanes on her showe samiseastic little gring, and\n",
            "he went on the sone, and all the dost of dincesing to\n",
            "her. Stepan\n",
            "Arkadyevitch, and a fine as sigh for him ovirce the mistriss of the fill of the sente, and the death things be a felton stapper and stitly as is the position and\n",
            "such a\n",
            "senmef looked out the diston to sincing the sabelief. Stigly hat geather to the conversation, but she\n"
          ]
        }
      ],
      "source": [
        "checkpoint = tf.train.latest_checkpoint('checkpoints')\n",
        "samp = sample(checkpoint, 2000, lstm_size, len(vocab), prime=\"Far\")\n",
        "print(samp)"
      ]
    },
    {
      "cell_type": "code",
      "execution_count": 42,
      "metadata": {
        "id": "Bbd4NXmbYRkH",
        "outputId": "7be3ce2b-699c-4e96-b619-27d2cecb1e28",
        "colab": {
          "base_uri": "https://localhost:8080/"
        }
      },
      "outputs": [
        {
          "output_type": "stream",
          "name": "stderr",
          "text": [
            "/usr/local/lib/python3.7/dist-packages/ipykernel_launcher.py:17: UserWarning: `tf.nn.rnn_cell.BasicRNNCell` is deprecated and will be removed in a future version. This class is equivalent as `tf.keras.layers.SimpleRNNCell`, and will be replaced by that in Tensorflow 2.0.\n",
            "WARNING:tensorflow:`tf.nn.rnn_cell.MultiRNNCell` is deprecated. This class is equivalent as `tf.keras.layers.StackedRNNCells`, and will be replaced by that in Tensorflow 2.0.\n"
          ]
        },
        {
          "output_type": "stream",
          "name": "stdout",
          "text": [
            "Fars.\"The d harenther. In onged ont ham. And\n",
            "hed tomend too d owerent he has singad inte te ain ther out an an wat at his hed and shed ande sas it he the the wast the ther, and so dotinnoth has one se teand he merthe sher aledstent ond se pant te too ther. These, ar the hed and shed the could, the he heread son thas ion an westored thas somed, an thit ate fere hat thas ive se was hored an sher all to the parterend hes ing ther the porthe\n",
            "she his and shes antald ound an were shere that of hes\n",
            "soreding, an to cemisingot at of on thas andered, shit thener the se that se facims toreston the pestous th tomedero se the hed and and and she\n",
            "sale so the sad he herssen the te sous to ser hir there sould toot thit, and thand ho se tor andere were andere ton wis the\n",
            "pand ant oferted at him..\n",
            "\n",
            "\"Yes and somedroverye ther adither and her at hat to hes indisg of the won the then are ted and hea der as the wish shat he well te wount to him, andenste he\n",
            "whth seed ane tore shas and toong tert ond he wisce hi\n"
          ]
        }
      ],
      "source": [
        "checkpoint = 'checkpoints/i200_l512.ckpt'\n",
        "samp = sample(checkpoint, 1000, lstm_size, len(vocab), prime=\"Far\")\n",
        "print(samp)"
      ]
    },
    {
      "cell_type": "code",
      "execution_count": 43,
      "metadata": {
        "id": "zIn10ADUYRkH",
        "outputId": "993c0638-b099-45ff-af99-07708cf2160f",
        "colab": {
          "base_uri": "https://localhost:8080/"
        }
      },
      "outputs": [
        {
          "output_type": "stream",
          "name": "stderr",
          "text": [
            "/usr/local/lib/python3.7/dist-packages/ipykernel_launcher.py:17: UserWarning: `tf.nn.rnn_cell.BasicRNNCell` is deprecated and will be removed in a future version. This class is equivalent as `tf.keras.layers.SimpleRNNCell`, and will be replaced by that in Tensorflow 2.0.\n",
            "WARNING:tensorflow:`tf.nn.rnn_cell.MultiRNNCell` is deprecated. This class is equivalent as `tf.keras.layers.StackedRNNCells`, and will be replaced by that in Tensorflow 2.0.\n"
          ]
        },
        {
          "output_type": "stream",
          "name": "stdout",
          "text": [
            "Farnever has the wast here had toong, and to th the\n",
            "prestent, and the mome the ham and siel the wallong, seed,\" ha dad to maner ous of illone tore hid teent of on in har atound as in him tion of an in are sace har bectite ta the\n",
            "peraid sar ingersing, ald thet ang toot..\"\n",
            "\n",
            "\"Why, she her and asstied to herest te her the perass, ald to her and sout of hom the sande shat tead tot thin sor tome fee to that of ather and to mome for to mast touly bromsend him shar hom that the she was onding to tookente fice th ingre for hass, and sal at has at ately. Ane ther sien wheserild somer ano her addortho fact he sor it hth asterse that has beenderstily; thone the the whe han alladd, and ate her ate to no to he weale thou her.\n",
            "She siel at thing tors wint at\n",
            "toon tha das whit to could to sher sied on teangot. And his io thou drand and te poo tean him, he pacins at and ovenot af to tare that wishit, the had buectorentha gould ald buthan sien tion, she wath, hed hed at angorestiond the har har handen wo her\n"
          ]
        }
      ],
      "source": [
        "checkpoint = 'checkpoints/i600_l512.ckpt'\n",
        "samp = sample(checkpoint, 1000, lstm_size, len(vocab), prime=\"Far\")\n",
        "print(samp)"
      ]
    },
    {
      "cell_type": "code",
      "execution_count": 44,
      "metadata": {
        "id": "hXvoDY_HYRkH",
        "outputId": "f3d2dcb7-30df-405f-c8e5-f2fc7104c21d",
        "colab": {
          "base_uri": "https://localhost:8080/"
        }
      },
      "outputs": [
        {
          "output_type": "stream",
          "name": "stderr",
          "text": [
            "/usr/local/lib/python3.7/dist-packages/ipykernel_launcher.py:17: UserWarning: `tf.nn.rnn_cell.BasicRNNCell` is deprecated and will be removed in a future version. This class is equivalent as `tf.keras.layers.SimpleRNNCell`, and will be replaced by that in Tensorflow 2.0.\n",
            "WARNING:tensorflow:`tf.nn.rnn_cell.MultiRNNCell` is deprecated. This class is equivalent as `tf.keras.layers.StackedRNNCells`, and will be replaced by that in Tensorflow 2.0.\n"
          ]
        },
        {
          "output_type": "stream",
          "name": "stdout",
          "text": [
            "Far Govessert, tho ghithan sone she sait\n",
            "weand.... The wime, and him him to hea he thought, bus in the could ar the minese wion ass in the\n",
            "somen ant though she sas the coof te see she wasked as his he wesh un in his with tise the than seepless in her sate, beed as in\n",
            "his beficill to take whith har bofitung his all hea sof ther awand said of the ringred is wosked, that tore she wert an the cilfe tors, he sout than she was all the sain thit hom to shing to the would the towing of the peceres and the sore. He wal gatitile thes it oun shisedine and the pictlant of his wion ho would some\n",
            "time to hea hand wish as ane sind and tithich at ong hear, the wood woull thay. I as the charger the seattor whice he had to be werl her an stiof ous tond with whith his. An a sad and had some alo the ruck nat teal hors, betore, he dal the simen thio sofe. Her and tean athere to the wastene aly hed and the sore that teed to the werton on tien wos and alled and his befine wion thes is.\n",
            "\n",
            "Thay seaned io hem to the\n"
          ]
        }
      ],
      "source": [
        "checkpoint = 'checkpoints/i1200_l512.ckpt'\n",
        "samp = sample(checkpoint, 1000, lstm_size, len(vocab), prime=\"Far\")\n",
        "print(samp)"
      ]
    }
  ],
  "metadata": {
    "kernelspec": {
      "display_name": "Python 3",
      "language": "python",
      "name": "python3"
    },
    "language_info": {
      "codemirror_mode": {
        "name": "ipython",
        "version": 3
      },
      "file_extension": ".py",
      "mimetype": "text/x-python",
      "name": "python",
      "nbconvert_exporter": "python",
      "pygments_lexer": "ipython3",
      "version": "3.6.4"
    },
    "colab": {
      "provenance": []
    },
    "accelerator": "GPU",
    "gpuClass": "standard"
  },
  "nbformat": 4,
  "nbformat_minor": 0
}