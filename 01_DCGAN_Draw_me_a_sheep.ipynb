{
  "cells": [
    {
      "cell_type": "markdown",
      "metadata": {
        "id": "view-in-github",
        "colab_type": "text"
      },
      "source": [
        "<a href=\"https://colab.research.google.com/github/lsteffenel/CHPS0905/blob/main/01_DCGAN_Draw_me_a_sheep.ipynb\" target=\"_parent\"><img src=\"https://colab.research.google.com/assets/colab-badge.svg\" alt=\"Open In Colab\"/></a>"
      ]
    },
    {
      "cell_type": "markdown",
      "metadata": {
        "id": "6JGUUkqPjogI"
      },
      "source": [
        "\n",
        "\n",
        "# <!-- TITLE --> [SHEEP1] - A first DCGAN to Draw a Sheep\n",
        "<!-- DESC --> Episode 1 : Draw me a sheep, revisited with a DCGAN\n",
        "<!-- AUTHOR : Jean-Luc Parouty (CNRS/SIMaP) -->\n",
        "\n",
        "## Objectives :\n",
        " - Build and train a DCGAN model with the Quick Draw dataset\n",
        " - Understanding DCGAN\n",
        "\n",
        "The [Quick draw dataset](https://quickdraw.withgoogle.com/data) contains about 50.000.000 drawings, made by real people...  \n",
        "We are using a subset of 117.555 of Sheep drawings  \n",
        "To get the dataset : [https://github.com/googlecreativelab/quickdraw-dataset](https://github.com/googlecreativelab/quickdraw-dataset)  \n",
        "Datasets in numpy bitmap file : [https://console.cloud.google.com/storage/quickdraw_dataset/full/numpy_bitmap](https://console.cloud.google.com/storage/quickdraw_dataset/full/numpy_bitmap)   \n",
        "Sheep dataset : [https://storage.googleapis.com/quickdraw_dataset/full/numpy_bitmap/sheep.npy](https://storage.googleapis.com/quickdraw_dataset/full/numpy_bitmap/sheep.npy) (94.3 Mo)\n",
        "\n",
        "\n",
        "## What we're going to do :\n",
        "\n",
        " - Have a look to the dataset\n",
        " - Defining a GAN model\n",
        " - Build the model\n",
        " - Train it\n",
        " - Analyze the results\n",
        "\n",
        "## Acknowledgements :\n",
        "Thanks to **François Chollet** who is at the base of this example.  \n",
        "See : [https://keras.io/examples/](https://keras.io/examples/)\n"
      ]
    },
    {
      "cell_type": "markdown",
      "metadata": {
        "id": "FTG8EgRPjogK"
      },
      "source": [
        "## Step 1 - Init python stuff"
      ]
    },
    {
      "cell_type": "code",
      "source": [
        "!pip install -q fidle"
      ],
      "metadata": {
        "id": "YfVcUxRwj_iM"
      },
      "execution_count": null,
      "outputs": []
    },
    {
      "cell_type": "code",
      "source": [
        "!wget -q https://storage.googleapis.com/quickdraw_dataset/full/numpy_bitmap/sheep.npy\n",
        "!wget -q \"https://www.dropbox.com/scl/fi/egoiea3p1r85x3vewpdqe/modules.zip?rlkey=miadjvxky2zksfl3pgamxwtwh&dl=0\" -O modules.zip\n",
        "!unzip -q modules.zip"
      ],
      "metadata": {
        "id": "lVLSgAIG6z6s"
      },
      "execution_count": null,
      "outputs": []
    },
    {
      "cell_type": "code",
      "execution_count": null,
      "metadata": {
        "id": "wI9hjMl1jogK"
      },
      "outputs": [],
      "source": [
        "import numpy as np\n",
        "import matplotlib.pyplot as plt\n",
        "from skimage import io\n",
        "import sys\n",
        "\n",
        "import tensorflow as tf\n",
        "from tensorflow import keras\n",
        "from tensorflow.keras import layers\n",
        "from tensorflow.keras.callbacks import TensorBoard\n",
        "\n",
        "from modules.models    import DCGAN\n",
        "from modules.models    import WGANGP\n",
        "from modules.callbacks import ImagesCallback\n",
        "\n",
        "import fidle\n",
        "\n",
        "# Init Fidle environment\n",
        "run_id = run_dir = datasets_dir = '.'"
      ]
    },
    {
      "cell_type": "markdown",
      "metadata": {
        "id": "yInwglHojogK"
      },
      "source": [
        "## Step 2 - Parameters\n",
        "`scale` : With scale=1, we need 5-6 minutes on a GPU V100 ...and >2h on a CPU !  \n",
        "`latent_dim` : Latent space dimension, 128 for example !  \n",
        "`fit_verbosity` : verbosity during training : 0 = silent, 1 = progress bar, 2 = one line per epoch  \n",
        "`num_img` : Number of images to visualize\n",
        "\n",
        "**Notes:**\n",
        "- The settings below (scale=0.01, epochs=5) allow the notebooks to run on a laptop, but not to get a minimal result!\n",
        "- For a decent result, you need something like: scale=1, epochs=10"
      ]
    },
    {
      "cell_type": "code",
      "execution_count": null,
      "metadata": {
        "id": "h3uDjgtujogK"
      },
      "outputs": [],
      "source": [
        "latent_dim    = 128\n",
        "\n",
        "scale         = .01\n",
        "epochs        = 100\n",
        "batch_size    = 32\n",
        "num_img       = 12\n",
        "fit_verbosity = 1\n",
        "n_critic      = 2"
      ]
    },
    {
      "cell_type": "markdown",
      "metadata": {
        "id": "_pj2_KkfjogK"
      },
      "source": [
        "Override parameters (batch mode) - Just forget this cell"
      ]
    },
    {
      "cell_type": "code",
      "execution_count": null,
      "metadata": {
        "id": "QirCSEjmjogL"
      },
      "outputs": [],
      "source": [
        "fidle.override('scale', 'latent_dim', 'epochs', 'batch_size', 'num_img', 'fit_verbosity')"
      ]
    },
    {
      "cell_type": "markdown",
      "metadata": {
        "id": "n_NEly6NjogL"
      },
      "source": [
        "## Step 3 - Load dataset and have a look\n",
        "Load sheeps as numpy bitmaps..."
      ]
    },
    {
      "cell_type": "code",
      "execution_count": null,
      "metadata": {
        "id": "z_rU5dzVjogL"
      },
      "outputs": [],
      "source": [
        "# Load dataset\n",
        "x_data = np.load(datasets_dir+'/sheep.npy')\n",
        "print('Original dataset shape : ',x_data.shape)\n",
        "\n",
        "# Rescale\n",
        "n=int(scale*len(x_data))\n",
        "x_data = x_data[:n]\n",
        "print('Rescaled dataset shape : ',x_data.shape)\n",
        "\n",
        "# Normalize, reshape and shuffle\n",
        "x_data = x_data/255\n",
        "x_data = x_data.reshape(-1,28,28,1)\n",
        "np.random.shuffle(x_data)\n",
        "print('Final dataset shape    : ',x_data.shape)\n"
      ]
    },
    {
      "cell_type": "markdown",
      "metadata": {
        "id": "2SDv66U0jogL"
      },
      "source": [
        "...and have a look :  \n",
        "Note : These sheep are sheep drawn ... by real humans!"
      ]
    },
    {
      "cell_type": "code",
      "execution_count": null,
      "metadata": {
        "id": "-NG_L1QMjogL"
      },
      "outputs": [],
      "source": [
        "fidle.scrawler.images( x_data.reshape(-1,28,28), indices=range(72), columns=12, x_size=1, y_size=1,\n",
        "                       y_padding=0,spines_alpha=0, save_as='01-Sheeps')"
      ]
    },
    {
      "cell_type": "markdown",
      "metadata": {
        "id": "WDai1aH4jogL"
      },
      "source": [
        "## Step 4 - Create a discriminator"
      ]
    },
    {
      "cell_type": "code",
      "execution_count": null,
      "metadata": {
        "id": "KU9VZpDZjogL"
      },
      "outputs": [],
      "source": [
        "inputs  = keras.Input(shape=(28, 28, 1))\n",
        "x       = layers.Conv2D(64, kernel_size=4, strides=2, padding=\"same\")(inputs)\n",
        "x       = layers.LeakyReLU(alpha=0.2)(x)\n",
        "x       = layers.Conv2D(128, kernel_size=4, strides=2, padding=\"same\")(x)\n",
        "x       = layers.LeakyReLU(alpha=0.2)(x)\n",
        "x       = layers.Conv2D(128, kernel_size=4, strides=2, padding=\"same\")(x)\n",
        "x       = layers.LeakyReLU(alpha=0.2)(x)\n",
        "x       = layers.Flatten()(x)\n",
        "x       = layers.Dropout(0.2)(x)\n",
        "z       = layers.Dense(1, activation=\"sigmoid\")(x)\n",
        "\n",
        "discriminator = keras.Model(inputs, z, name=\"discriminator\")\n",
        "discriminator.summary()"
      ]
    },
    {
      "cell_type": "markdown",
      "metadata": {
        "id": "NWEIoG57jogL"
      },
      "source": [
        "## Step 5 - Create a generator"
      ]
    },
    {
      "cell_type": "code",
      "execution_count": null,
      "metadata": {
        "id": "p8tgGqgejogM"
      },
      "outputs": [],
      "source": [
        "inputs  = keras.Input(shape=(latent_dim,))\n",
        "x       = layers.Dense(7 * 7 * 64)(inputs)\n",
        "x       = layers.Reshape((7, 7, 64))(x)\n",
        "x       = layers.UpSampling2D()(x)\n",
        "x       = layers.Conv2D(128,  kernel_size=3, strides=1, padding='same', activation='relu')(x)\n",
        "x       = layers.UpSampling2D()(x)\n",
        "x       = layers.Conv2D(256,  kernel_size=3, strides=1, padding='same', activation='relu')(x)\n",
        "outputs = layers.Conv2D(1,    kernel_size=5, strides=1, padding=\"same\", activation=\"sigmoid\")(x)\n",
        "\n",
        "generator = keras.Model(inputs, outputs, name=\"generator\")\n",
        "generator.summary()"
      ]
    },
    {
      "cell_type": "markdown",
      "metadata": {
        "id": "WLAS7CWYjogM"
      },
      "source": [
        "## Step 6 - Build, compile and train our DCGAN\n",
        "First, clean saved images :"
      ]
    },
    {
      "cell_type": "code",
      "execution_count": null,
      "metadata": {
        "id": "Z3cnktmYjogM"
      },
      "outputs": [],
      "source": [
        "!rm $run_dir/images/*.jpg >/dev/null 2>&1"
      ]
    },
    {
      "cell_type": "markdown",
      "metadata": {
        "id": "I-ZP6dTEjogM"
      },
      "source": [
        "Build our model :"
      ]
    },
    {
      "cell_type": "code",
      "execution_count": null,
      "metadata": {
        "id": "PK2uw9GTjogM"
      },
      "outputs": [],
      "source": [
        "gan = DCGAN(discriminator=discriminator, generator=generator, latent_dim=latent_dim)"
      ]
    },
    {
      "cell_type": "code",
      "execution_count": null,
      "metadata": {
        "id": "8suBuWhcjogM"
      },
      "outputs": [],
      "source": [
        "gan.compile(\n",
        "    discriminator_optimizer = keras.optimizers.Adam(learning_rate=0.0001),\n",
        "    generator_optimizer     = keras.optimizers.Adam(learning_rate=0.0001),\n",
        "    loss_function           = keras.losses.BinaryCrossentropy()\n",
        ")"
      ]
    },
    {
      "cell_type": "markdown",
      "metadata": {
        "id": "wbf5V-LFjogM"
      },
      "source": [
        "Add a callback to save images, train our DCGAN model and save it :"
      ]
    },
    {
      "cell_type": "code",
      "execution_count": null,
      "metadata": {
        "id": "rBrEjPhujogM"
      },
      "outputs": [],
      "source": [
        "imagesCallback = ImagesCallback(num_img=num_img, latent_dim=latent_dim, run_dir=f'{run_dir}/images')\n",
        "\n",
        "history = gan.fit( x_data,\n",
        "                   epochs=150,\n",
        "                   batch_size=batch_size,\n",
        "                   callbacks=[imagesCallback],\n",
        "                   verbose=fit_verbosity )\n",
        "\n",
        "gan.save(f'{run_dir}/models/model.h5')"
      ]
    },
    {
      "cell_type": "markdown",
      "metadata": {
        "id": "3kYKtQESjogM"
      },
      "source": [
        "## Step 7 - History"
      ]
    },
    {
      "cell_type": "code",
      "execution_count": null,
      "metadata": {
        "id": "G2TLDvcSjogM"
      },
      "outputs": [],
      "source": [
        "fidle.scrawler.history(history,  plot={'loss':['d_loss','g_loss']}, save_as='01-history')"
      ]
    },
    {
      "cell_type": "code",
      "execution_count": null,
      "metadata": {
        "id": "2U3qfXVGjogM"
      },
      "outputs": [],
      "source": [
        "images=[]\n",
        "for epoch in range(0,epochs,10):\n",
        "    for i in range(num_img):\n",
        "        filename = f'{run_dir}/images/image-{epoch:03d}-{i:02d}.jpg'\n",
        "        image    = io.imread(filename)\n",
        "        images.append(image)\n",
        "\n",
        "fidle.scrawler.images(images, None, indices='all', columns=num_img, x_size=1,y_size=1, interpolation=None, y_padding=0, spines_alpha=0, save_as='04-learning')"
      ]
    },
    {
      "cell_type": "markdown",
      "metadata": {
        "id": "cHuk90wTjogN"
      },
      "source": [
        "## Step 8 - Generation\n",
        "Reload our saved model :"
      ]
    },
    {
      "cell_type": "code",
      "execution_count": null,
      "metadata": {
        "id": "S0gcyFkzjogN"
      },
      "outputs": [],
      "source": [
        "gan.reload(f'{run_dir}/models/model.h5')"
      ]
    },
    {
      "cell_type": "markdown",
      "metadata": {
        "id": "7m7cxKF7jogN"
      },
      "source": [
        "Generate somes images from latent space :"
      ]
    },
    {
      "cell_type": "code",
      "execution_count": null,
      "metadata": {
        "id": "AD0XIuJ6jogN"
      },
      "outputs": [],
      "source": [
        "nb_images = 12*15\n",
        "\n",
        "z = np.random.normal(size=(nb_images,latent_dim))\n",
        "images = gan.predict(z, verbose=0)\n"
      ]
    },
    {
      "cell_type": "markdown",
      "metadata": {
        "id": "8YoZC2QRjogN"
      },
      "source": [
        "Plot it :"
      ]
    },
    {
      "cell_type": "code",
      "execution_count": null,
      "metadata": {
        "id": "q0hLELdTjogN"
      },
      "outputs": [],
      "source": [
        "fidle.scrawler.images(images, None, indices='all', columns=num_img, x_size=1,y_size=1, interpolation=None, y_padding=0, spines_alpha=0, save_as='04-learning')"
      ]
    }
  ],
  "metadata": {
    "kernelspec": {
      "display_name": "Python 3",
      "name": "python3"
    },
    "language_info": {
      "codemirror_mode": {
        "name": "ipython",
        "version": 3
      },
      "file_extension": ".py",
      "mimetype": "text/x-python",
      "name": "python",
      "nbconvert_exporter": "python",
      "pygments_lexer": "ipython3",
      "version": "3.9.2"
    },
    "vscode": {
      "interpreter": {
        "hash": "b3929042cc22c1274d74e3e946c52b845b57cb6d84f2d591ffe0519b38e4896d"
      }
    },
    "colab": {
      "provenance": [],
      "gpuType": "T4",
      "include_colab_link": true
    },
    "accelerator": "GPU"
  },
  "nbformat": 4,
  "nbformat_minor": 0
}